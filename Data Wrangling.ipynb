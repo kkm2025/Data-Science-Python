{
 "cells": [
  {
   "cell_type": "code",
   "execution_count": 1,
   "id": "d9316b7c",
   "metadata": {},
   "outputs": [
    {
     "data": {
      "text/html": [
       "<div>\n",
       "<style scoped>\n",
       "    .dataframe tbody tr th:only-of-type {\n",
       "        vertical-align: middle;\n",
       "    }\n",
       "\n",
       "    .dataframe tbody tr th {\n",
       "        vertical-align: top;\n",
       "    }\n",
       "\n",
       "    .dataframe thead th {\n",
       "        text-align: right;\n",
       "    }\n",
       "</style>\n",
       "<table border=\"1\" class=\"dataframe\">\n",
       "  <thead>\n",
       "    <tr style=\"text-align: right;\">\n",
       "      <th></th>\n",
       "      <th>Name</th>\n",
       "      <th>PClass</th>\n",
       "      <th>Age</th>\n",
       "      <th>Sex</th>\n",
       "      <th>Survived</th>\n",
       "    </tr>\n",
       "  </thead>\n",
       "  <tbody>\n",
       "    <tr>\n",
       "      <th>0</th>\n",
       "      <td>Allen, Miss Elisabeth Walton</td>\n",
       "      <td>1st</td>\n",
       "      <td>29.00</td>\n",
       "      <td>female</td>\n",
       "      <td>1</td>\n",
       "    </tr>\n",
       "    <tr>\n",
       "      <th>1</th>\n",
       "      <td>Allison, Miss Helen Loraine</td>\n",
       "      <td>1st</td>\n",
       "      <td>2.00</td>\n",
       "      <td>female</td>\n",
       "      <td>0</td>\n",
       "    </tr>\n",
       "    <tr>\n",
       "      <th>2</th>\n",
       "      <td>Allison, Mr Hudson Joshua Creighton</td>\n",
       "      <td>1st</td>\n",
       "      <td>30.00</td>\n",
       "      <td>male</td>\n",
       "      <td>0</td>\n",
       "    </tr>\n",
       "    <tr>\n",
       "      <th>3</th>\n",
       "      <td>Allison, Mrs Hudson JC (Bessie Waldo Daniels)</td>\n",
       "      <td>1st</td>\n",
       "      <td>25.00</td>\n",
       "      <td>female</td>\n",
       "      <td>0</td>\n",
       "    </tr>\n",
       "    <tr>\n",
       "      <th>4</th>\n",
       "      <td>Allison, Master Hudson Trevor</td>\n",
       "      <td>1st</td>\n",
       "      <td>0.92</td>\n",
       "      <td>male</td>\n",
       "      <td>1</td>\n",
       "    </tr>\n",
       "  </tbody>\n",
       "</table>\n",
       "</div>"
      ],
      "text/plain": [
       "                                            Name PClass    Age     Sex  \\\n",
       "0                   Allen, Miss Elisabeth Walton    1st  29.00  female   \n",
       "1                    Allison, Miss Helen Loraine    1st   2.00  female   \n",
       "2            Allison, Mr Hudson Joshua Creighton    1st  30.00    male   \n",
       "3  Allison, Mrs Hudson JC (Bessie Waldo Daniels)    1st  25.00  female   \n",
       "4                  Allison, Master Hudson Trevor    1st   0.92    male   \n",
       "\n",
       "   Survived  \n",
       "0         1  \n",
       "1         0  \n",
       "2         0  \n",
       "3         0  \n",
       "4         1  "
      ]
     },
     "execution_count": 1,
     "metadata": {},
     "output_type": "execute_result"
    }
   ],
   "source": [
    "#Data Wrangling\n",
    "# It is the process of transforming raw data to a clean and organised format ready to use\n",
    "\n",
    "import pandas as pd\n",
    "\n",
    "url = \"https://osf.io/aupb4/download\"\n",
    "\n",
    "dataframe = pd.read_csv(url) \n",
    "dataframe.head(5)"
   ]
  },
  {
   "cell_type": "code",
   "execution_count": 2,
   "id": "d5ecf2a7",
   "metadata": {},
   "outputs": [],
   "source": [
    "#Creating Data Frame\n",
    "\n",
    "dataframe = pd.DataFrame()\n",
    "\n",
    "#Adding columns\n",
    "dataframe[\"Name\"]=[\"A\",\"B\",\"C\"]\n",
    "dataframe[\"Age\"]=[23,12,8]\n",
    "dataframe[\"Gender\"]=[\"M\",\"F\",\"F\"]\n"
   ]
  },
  {
   "cell_type": "code",
   "execution_count": 3,
   "id": "04144988",
   "metadata": {},
   "outputs": [
    {
     "name": "stdout",
     "output_type": "stream",
     "text": [
      "  Name  Age Gender\n",
      "0    A   23      M\n",
      "1    B   12      F\n",
      "2    C    8      F\n",
      "3    M   22      M\n"
     ]
    }
   ],
   "source": [
    "#Create row\n",
    "new_person = pd.Series([\"M\",22,\"M\"],index=[\"Name\",\"Age\",\"Gender\"])\n",
    "\n",
    "#Append row to datframe\n",
    "dataframe = dataframe.append(new_person,ignore_index=True)\n",
    "print(dataframe)"
   ]
  },
  {
   "cell_type": "code",
   "execution_count": 4,
   "id": "f30a8af2",
   "metadata": {},
   "outputs": [
    {
     "name": "stdout",
     "output_type": "stream",
     "text": [
      "                                            Name PClass   Age     Sex  \\\n",
      "0                   Allen, Miss Elisabeth Walton    1st  29.0  female   \n",
      "1                    Allison, Miss Helen Loraine    1st   2.0  female   \n",
      "2            Allison, Mr Hudson Joshua Creighton    1st  30.0    male   \n",
      "3  Allison, Mrs Hudson JC (Bessie Waldo Daniels)    1st  25.0  female   \n",
      "\n",
      "   Survived  \n",
      "0         1  \n",
      "1         0  \n",
      "2         0  \n",
      "3         0  \n"
     ]
    }
   ],
   "source": [
    "#Describing the Data\n",
    "url = \"https://osf.io/aupb4/download\"\n",
    "\n",
    "dataframe = pd.read_csv(url) \n",
    "print(dataframe.head(4))"
   ]
  },
  {
   "cell_type": "code",
   "execution_count": 5,
   "id": "79a6d1dd",
   "metadata": {},
   "outputs": [
    {
     "name": "stdout",
     "output_type": "stream",
     "text": [
      "(1313, 5)\n",
      "              Age     Survived\n",
      "count  756.000000  1313.000000\n",
      "mean    30.397989     0.342727\n",
      "std     14.259049     0.474802\n",
      "min      0.170000     0.000000\n",
      "25%     21.000000     0.000000\n",
      "50%     28.000000     0.000000\n",
      "75%     39.000000     1.000000\n",
      "max     71.000000     1.000000\n"
     ]
    }
   ],
   "source": [
    "#Shape\n",
    "print(dataframe.shape)\n",
    "\n",
    "#Show statistics\n",
    "print(dataframe.describe())"
   ]
  },
  {
   "cell_type": "code",
   "execution_count": 6,
   "id": "58883b85",
   "metadata": {},
   "outputs": [
    {
     "data": {
      "text/plain": [
       "Name        Allen, Miss Elisabeth Walton\n",
       "PClass                               1st\n",
       "Age                                 29.0\n",
       "Sex                               female\n",
       "Survived                               1\n",
       "Name: Allen, Miss Elisabeth Walton, dtype: object"
      ]
     },
     "execution_count": 6,
     "metadata": {},
     "output_type": "execute_result"
    }
   ],
   "source": [
    "#Navigating DataFrames\n",
    "\n",
    "#Selecting rows\n",
    "dataframe.iloc[0] #Selects first row\n",
    "\n",
    "dataframe.iloc[1:4] #Selecting 3 rows\n",
    "dataframe.iloc[:4] #Selecting rows upto 4th row\n",
    "\n",
    "#Set index to any other feature i.e Name\n",
    "dataframe = dataframe.set_index(dataframe[\"Name\"])\n",
    "\n",
    "dataframe.loc[\"Allen, Miss Elisabeth Walton\"]"
   ]
  },
  {
   "cell_type": "code",
   "execution_count": 7,
   "id": "50ce2091",
   "metadata": {},
   "outputs": [],
   "source": [
    "#loc is used when the index of the DataFrame is a label\n",
    "#iloc works by looking for the position in the DataFrame."
   ]
  },
  {
   "cell_type": "code",
   "execution_count": 8,
   "id": "e80b0e28",
   "metadata": {},
   "outputs": [
    {
     "data": {
      "text/html": [
       "<div>\n",
       "<style scoped>\n",
       "    .dataframe tbody tr th:only-of-type {\n",
       "        vertical-align: middle;\n",
       "    }\n",
       "\n",
       "    .dataframe tbody tr th {\n",
       "        vertical-align: top;\n",
       "    }\n",
       "\n",
       "    .dataframe thead th {\n",
       "        text-align: right;\n",
       "    }\n",
       "</style>\n",
       "<table border=\"1\" class=\"dataframe\">\n",
       "  <thead>\n",
       "    <tr style=\"text-align: right;\">\n",
       "      <th></th>\n",
       "      <th>Name</th>\n",
       "      <th>PClass</th>\n",
       "      <th>Age</th>\n",
       "      <th>Sex</th>\n",
       "      <th>Survived</th>\n",
       "    </tr>\n",
       "    <tr>\n",
       "      <th>Name</th>\n",
       "      <th></th>\n",
       "      <th></th>\n",
       "      <th></th>\n",
       "      <th></th>\n",
       "      <th></th>\n",
       "    </tr>\n",
       "  </thead>\n",
       "  <tbody>\n",
       "    <tr>\n",
       "      <th>Allison, Master Hudson Trevor</th>\n",
       "      <td>Allison, Master Hudson Trevor</td>\n",
       "      <td>1st</td>\n",
       "      <td>0.92</td>\n",
       "      <td>male</td>\n",
       "      <td>1</td>\n",
       "    </tr>\n",
       "    <tr>\n",
       "      <th>Anderson, Mr Harry</th>\n",
       "      <td>Anderson, Mr Harry</td>\n",
       "      <td>1st</td>\n",
       "      <td>47.00</td>\n",
       "      <td>male</td>\n",
       "      <td>1</td>\n",
       "    </tr>\n",
       "    <tr>\n",
       "      <th>Barkworth, Mr Algernon H</th>\n",
       "      <td>Barkworth, Mr Algernon H</td>\n",
       "      <td>1st</td>\n",
       "      <td>NaN</td>\n",
       "      <td>male</td>\n",
       "      <td>1</td>\n",
       "    </tr>\n",
       "    <tr>\n",
       "      <th>Beckwith, Mr Richard Leord</th>\n",
       "      <td>Beckwith, Mr Richard Leord</td>\n",
       "      <td>1st</td>\n",
       "      <td>37.00</td>\n",
       "      <td>male</td>\n",
       "      <td>1</td>\n",
       "    </tr>\n",
       "    <tr>\n",
       "      <th>Behr, Mr Karl Howell</th>\n",
       "      <td>Behr, Mr Karl Howell</td>\n",
       "      <td>1st</td>\n",
       "      <td>26.00</td>\n",
       "      <td>male</td>\n",
       "      <td>1</td>\n",
       "    </tr>\n",
       "  </tbody>\n",
       "</table>\n",
       "</div>"
      ],
      "text/plain": [
       "                                                        Name PClass    Age  \\\n",
       "Name                                                                         \n",
       "Allison, Master Hudson Trevor  Allison, Master Hudson Trevor    1st   0.92   \n",
       "Anderson, Mr Harry                        Anderson, Mr Harry    1st  47.00   \n",
       "Barkworth, Mr Algernon H            Barkworth, Mr Algernon H    1st    NaN   \n",
       "Beckwith, Mr Richard Leord        Beckwith, Mr Richard Leord    1st  37.00   \n",
       "Behr, Mr Karl Howell                    Behr, Mr Karl Howell    1st  26.00   \n",
       "\n",
       "                                Sex  Survived  \n",
       "Name                                           \n",
       "Allison, Master Hudson Trevor  male         1  \n",
       "Anderson, Mr Harry             male         1  \n",
       "Barkworth, Mr Algernon H       male         1  \n",
       "Beckwith, Mr Richard Leord     male         1  \n",
       "Behr, Mr Karl Howell           male         1  "
      ]
     },
     "execution_count": 8,
     "metadata": {},
     "output_type": "execute_result"
    }
   ],
   "source": [
    "# Selecting Rows Based on Conditionals\n",
    "\n",
    "#selecting only the female data\n",
    "dataframe[dataframe[\"Sex\"]==\"female\"].head(5)\n",
    "\n",
    "#Females with age more than 65\n",
    "dataframe[(dataframe[\"Sex\"]==\"female\") & (dataframe[\"Age\"]>=65)]\n",
    "\n",
    "#Males who survived\n",
    "dataframe[(dataframe[\"Sex\"]==\"male\") & (dataframe[\"Survived\"]==1)].head(5)"
   ]
  },
  {
   "cell_type": "code",
   "execution_count": 9,
   "id": "b8993fd2",
   "metadata": {},
   "outputs": [
    {
     "data": {
      "text/html": [
       "<div>\n",
       "<style scoped>\n",
       "    .dataframe tbody tr th:only-of-type {\n",
       "        vertical-align: middle;\n",
       "    }\n",
       "\n",
       "    .dataframe tbody tr th {\n",
       "        vertical-align: top;\n",
       "    }\n",
       "\n",
       "    .dataframe thead th {\n",
       "        text-align: right;\n",
       "    }\n",
       "</style>\n",
       "<table border=\"1\" class=\"dataframe\">\n",
       "  <thead>\n",
       "    <tr style=\"text-align: right;\">\n",
       "      <th></th>\n",
       "      <th>Name</th>\n",
       "      <th>PClass</th>\n",
       "      <th>Age</th>\n",
       "      <th>Sex</th>\n",
       "      <th>Survived</th>\n",
       "    </tr>\n",
       "    <tr>\n",
       "      <th>Name</th>\n",
       "      <th></th>\n",
       "      <th></th>\n",
       "      <th></th>\n",
       "      <th></th>\n",
       "      <th></th>\n",
       "    </tr>\n",
       "  </thead>\n",
       "  <tbody>\n",
       "    <tr>\n",
       "      <th>Allen, Miss Elisabeth Walton</th>\n",
       "      <td>Allen, Miss Elisabeth Walton</td>\n",
       "      <td>1st</td>\n",
       "      <td>29.0</td>\n",
       "      <td>female</td>\n",
       "      <td>one</td>\n",
       "    </tr>\n",
       "    <tr>\n",
       "      <th>Allison, Miss Helen Loraine</th>\n",
       "      <td>Allison, Miss Helen Loraine</td>\n",
       "      <td>1st</td>\n",
       "      <td>2.0</td>\n",
       "      <td>female</td>\n",
       "      <td>0</td>\n",
       "    </tr>\n",
       "    <tr>\n",
       "      <th>Allison, Mr Hudson Joshua Creighton</th>\n",
       "      <td>Allison, Mr Hudson Joshua Creighton</td>\n",
       "      <td>1st</td>\n",
       "      <td>30.0</td>\n",
       "      <td>male</td>\n",
       "      <td>0</td>\n",
       "    </tr>\n",
       "    <tr>\n",
       "      <th>Allison, Mrs Hudson JC (Bessie Waldo Daniels)</th>\n",
       "      <td>Allison, Mrs Hudson JC (Bessie Waldo Daniels)</td>\n",
       "      <td>1st</td>\n",
       "      <td>25.0</td>\n",
       "      <td>female</td>\n",
       "      <td>0</td>\n",
       "    </tr>\n",
       "    <tr>\n",
       "      <th>Allison, Master Hudson Trevor</th>\n",
       "      <td>Allison, Master Hudson Trevor</td>\n",
       "      <td>1st</td>\n",
       "      <td>0.92</td>\n",
       "      <td>male</td>\n",
       "      <td>one</td>\n",
       "    </tr>\n",
       "    <tr>\n",
       "      <th>Anderson, Mr Harry</th>\n",
       "      <td>Anderson, Mr Harry</td>\n",
       "      <td>1st</td>\n",
       "      <td>47.0</td>\n",
       "      <td>male</td>\n",
       "      <td>one</td>\n",
       "    </tr>\n",
       "  </tbody>\n",
       "</table>\n",
       "</div>"
      ],
      "text/plain": [
       "                                                                                        Name  \\\n",
       "Name                                                                                           \n",
       "Allen, Miss Elisabeth Walton                                    Allen, Miss Elisabeth Walton   \n",
       "Allison, Miss Helen Loraine                                      Allison, Miss Helen Loraine   \n",
       "Allison, Mr Hudson Joshua Creighton                      Allison, Mr Hudson Joshua Creighton   \n",
       "Allison, Mrs Hudson JC (Bessie Waldo Daniels)  Allison, Mrs Hudson JC (Bessie Waldo Daniels)   \n",
       "Allison, Master Hudson Trevor                                  Allison, Master Hudson Trevor   \n",
       "Anderson, Mr Harry                                                        Anderson, Mr Harry   \n",
       "\n",
       "                                              PClass   Age     Sex Survived  \n",
       "Name                                                                         \n",
       "Allen, Miss Elisabeth Walton                     1st  29.0  female      one  \n",
       "Allison, Miss Helen Loraine                      1st   2.0  female        0  \n",
       "Allison, Mr Hudson Joshua Creighton              1st  30.0    male        0  \n",
       "Allison, Mrs Hudson JC (Bessie Waldo Daniels)    1st  25.0  female        0  \n",
       "Allison, Master Hudson Trevor                    1st  0.92    male      one  \n",
       "Anderson, Mr Harry                               1st  47.0    male      one  "
      ]
     },
     "execution_count": 9,
     "metadata": {},
     "output_type": "execute_result"
    }
   ],
   "source": [
    "# Replacing Values in a DataFrame\n",
    "#DataFrame.replace(a,b) -- replace a with b\n",
    "\n",
    "dataframe[\"Survived\"].replace(1,\"alive\").head(5)\n",
    "\n",
    "dataframe[\"Sex\"].replace(\"female\",\"Woman\").head(5)\n",
    "\n",
    "dataframe[\"Sex\"].replace([\"female\",\"male\"],[\"F\",\"M\"]).head(5)\n",
    "\n",
    "dataframe.replace(1,\"one\").head(6) #It replaces in whole data"
   ]
  },
  {
   "cell_type": "code",
   "execution_count": 10,
   "id": "6f324c3d",
   "metadata": {},
   "outputs": [
    {
     "data": {
      "text/html": [
       "<div>\n",
       "<style scoped>\n",
       "    .dataframe tbody tr th:only-of-type {\n",
       "        vertical-align: middle;\n",
       "    }\n",
       "\n",
       "    .dataframe tbody tr th {\n",
       "        vertical-align: top;\n",
       "    }\n",
       "\n",
       "    .dataframe thead th {\n",
       "        text-align: right;\n",
       "    }\n",
       "</style>\n",
       "<table border=\"1\" class=\"dataframe\">\n",
       "  <thead>\n",
       "    <tr style=\"text-align: right;\">\n",
       "      <th></th>\n",
       "      <th>Name</th>\n",
       "      <th>Passenger Class</th>\n",
       "      <th>Age</th>\n",
       "      <th>Gender</th>\n",
       "      <th>Survived</th>\n",
       "    </tr>\n",
       "    <tr>\n",
       "      <th>Name</th>\n",
       "      <th></th>\n",
       "      <th></th>\n",
       "      <th></th>\n",
       "      <th></th>\n",
       "      <th></th>\n",
       "    </tr>\n",
       "  </thead>\n",
       "  <tbody>\n",
       "    <tr>\n",
       "      <th>Allen, Miss Elisabeth Walton</th>\n",
       "      <td>Allen, Miss Elisabeth Walton</td>\n",
       "      <td>1st</td>\n",
       "      <td>29.00</td>\n",
       "      <td>female</td>\n",
       "      <td>1</td>\n",
       "    </tr>\n",
       "    <tr>\n",
       "      <th>Allison, Miss Helen Loraine</th>\n",
       "      <td>Allison, Miss Helen Loraine</td>\n",
       "      <td>1st</td>\n",
       "      <td>2.00</td>\n",
       "      <td>female</td>\n",
       "      <td>0</td>\n",
       "    </tr>\n",
       "    <tr>\n",
       "      <th>Allison, Mr Hudson Joshua Creighton</th>\n",
       "      <td>Allison, Mr Hudson Joshua Creighton</td>\n",
       "      <td>1st</td>\n",
       "      <td>30.00</td>\n",
       "      <td>male</td>\n",
       "      <td>0</td>\n",
       "    </tr>\n",
       "    <tr>\n",
       "      <th>Allison, Mrs Hudson JC (Bessie Waldo Daniels)</th>\n",
       "      <td>Allison, Mrs Hudson JC (Bessie Waldo Daniels)</td>\n",
       "      <td>1st</td>\n",
       "      <td>25.00</td>\n",
       "      <td>female</td>\n",
       "      <td>0</td>\n",
       "    </tr>\n",
       "    <tr>\n",
       "      <th>Allison, Master Hudson Trevor</th>\n",
       "      <td>Allison, Master Hudson Trevor</td>\n",
       "      <td>1st</td>\n",
       "      <td>0.92</td>\n",
       "      <td>male</td>\n",
       "      <td>1</td>\n",
       "    </tr>\n",
       "  </tbody>\n",
       "</table>\n",
       "</div>"
      ],
      "text/plain": [
       "                                                                                        Name  \\\n",
       "Name                                                                                           \n",
       "Allen, Miss Elisabeth Walton                                    Allen, Miss Elisabeth Walton   \n",
       "Allison, Miss Helen Loraine                                      Allison, Miss Helen Loraine   \n",
       "Allison, Mr Hudson Joshua Creighton                      Allison, Mr Hudson Joshua Creighton   \n",
       "Allison, Mrs Hudson JC (Bessie Waldo Daniels)  Allison, Mrs Hudson JC (Bessie Waldo Daniels)   \n",
       "Allison, Master Hudson Trevor                                  Allison, Master Hudson Trevor   \n",
       "\n",
       "                                              Passenger Class    Age  Gender  \\\n",
       "Name                                                                           \n",
       "Allen, Miss Elisabeth Walton                              1st  29.00  female   \n",
       "Allison, Miss Helen Loraine                               1st   2.00  female   \n",
       "Allison, Mr Hudson Joshua Creighton                       1st  30.00    male   \n",
       "Allison, Mrs Hudson JC (Bessie Waldo Daniels)             1st  25.00  female   \n",
       "Allison, Master Hudson Trevor                             1st   0.92    male   \n",
       "\n",
       "                                               Survived  \n",
       "Name                                                     \n",
       "Allen, Miss Elisabeth Walton                          1  \n",
       "Allison, Miss Helen Loraine                           0  \n",
       "Allison, Mr Hudson Joshua Creighton                   0  \n",
       "Allison, Mrs Hudson JC (Bessie Waldo Daniels)         0  \n",
       "Allison, Master Hudson Trevor                         1  "
      ]
     },
     "execution_count": 10,
     "metadata": {},
     "output_type": "execute_result"
    }
   ],
   "source": [
    "# Renaming Columns\n",
    "\n",
    "dataframe.rename(columns={\"PClass\":\"Passenger Class\",\"Sex\":\"Gender\"}).head(5)\n",
    "#It takes a dictionary to replace names of one column or multiple columns"
   ]
  },
  {
   "cell_type": "code",
   "execution_count": 11,
   "id": "053b2647",
   "metadata": {},
   "outputs": [
    {
     "name": "stdout",
     "output_type": "stream",
     "text": [
      "defaultdict(<class 'str'>, {'Name': '', 'PClass': '', 'Age': '', 'Sex': '', 'Survived': ''})\n"
     ]
    }
   ],
   "source": [
    "import collections\n",
    "\n",
    "column_names = collections.defaultdict(str)\n",
    "\n",
    "for name in dataframe.columns:\n",
    "    column_names[name]\n",
    "    \n",
    "print(column_names)"
   ]
  },
  {
   "cell_type": "code",
   "execution_count": 12,
   "id": "7ca21dc7",
   "metadata": {},
   "outputs": [
    {
     "name": "stdout",
     "output_type": "stream",
     "text": [
      "Max:  71.0\n",
      "Min:  0.17\n",
      "Avg:  30.397989417989418\n",
      "Sum:  22980.88\n",
      "Count:  756\n"
     ]
    }
   ],
   "source": [
    "# Maximum, Minimum, Sum, Average and Count\n",
    "\n",
    "print(\"Max: \",dataframe[\"Age\"].max())\n",
    "print(\"Min: \",dataframe[\"Age\"].min())\n",
    "print(\"Avg: \",dataframe[\"Age\"].mean())\n",
    "print(\"Sum: \",dataframe[\"Age\"].sum())\n",
    "print(\"Count: \",dataframe[\"Age\"].count())"
   ]
  },
  {
   "cell_type": "code",
   "execution_count": 13,
   "id": "ae1a8d6f",
   "metadata": {},
   "outputs": [
    {
     "data": {
      "text/plain": [
       "Name        1313\n",
       "PClass      1312\n",
       "Age          756\n",
       "Sex         1313\n",
       "Survived    1313\n",
       "dtype: int64"
      ]
     },
     "execution_count": 13,
     "metadata": {},
     "output_type": "execute_result"
    }
   ],
   "source": [
    "dataframe.count()"
   ]
  },
  {
   "cell_type": "code",
   "execution_count": 14,
   "id": "7e4b1095",
   "metadata": {},
   "outputs": [
    {
     "data": {
      "text/plain": [
       "3"
      ]
     },
     "execution_count": 14,
     "metadata": {},
     "output_type": "execute_result"
    }
   ],
   "source": [
    "# Unique Values\n",
    "dataframe[\"PClass\"].unique() \n",
    "\n",
    "dataframe[\"PClass\"].value_counts() #Freq table of unique values\n",
    "\n",
    "dataframe[\"Sex\"].value_counts()\n",
    "\n",
    "dataframe[\"PClass\"].nunique() #Give the count of unique values"
   ]
  },
  {
   "cell_type": "code",
   "execution_count": 15,
   "id": "c8d00b3e",
   "metadata": {},
   "outputs": [
    {
     "data": {
      "text/html": [
       "<div>\n",
       "<style scoped>\n",
       "    .dataframe tbody tr th:only-of-type {\n",
       "        vertical-align: middle;\n",
       "    }\n",
       "\n",
       "    .dataframe tbody tr th {\n",
       "        vertical-align: top;\n",
       "    }\n",
       "\n",
       "    .dataframe thead th {\n",
       "        text-align: right;\n",
       "    }\n",
       "</style>\n",
       "<table border=\"1\" class=\"dataframe\">\n",
       "  <thead>\n",
       "    <tr style=\"text-align: right;\">\n",
       "      <th></th>\n",
       "      <th>Name</th>\n",
       "      <th>PClass</th>\n",
       "      <th>Age</th>\n",
       "      <th>Sex</th>\n",
       "      <th>Survived</th>\n",
       "    </tr>\n",
       "    <tr>\n",
       "      <th>Name</th>\n",
       "      <th></th>\n",
       "      <th></th>\n",
       "      <th></th>\n",
       "      <th></th>\n",
       "      <th></th>\n",
       "    </tr>\n",
       "  </thead>\n",
       "  <tbody>\n",
       "    <tr>\n",
       "      <th>Aubert, Mrs Leontine Pauline</th>\n",
       "      <td>Aubert, Mrs Leontine Pauline</td>\n",
       "      <td>1st</td>\n",
       "      <td>NaN</td>\n",
       "      <td>female</td>\n",
       "      <td>1</td>\n",
       "    </tr>\n",
       "    <tr>\n",
       "      <th>Barkworth, Mr Algernon H</th>\n",
       "      <td>Barkworth, Mr Algernon H</td>\n",
       "      <td>1st</td>\n",
       "      <td>NaN</td>\n",
       "      <td>male</td>\n",
       "      <td>1</td>\n",
       "    </tr>\n",
       "  </tbody>\n",
       "</table>\n",
       "</div>"
      ],
      "text/plain": [
       "                                                      Name PClass  Age  \\\n",
       "Name                                                                     \n",
       "Aubert, Mrs Leontine Pauline  Aubert, Mrs Leontine Pauline    1st  NaN   \n",
       "Barkworth, Mr Algernon H          Barkworth, Mr Algernon H    1st  NaN   \n",
       "\n",
       "                                 Sex  Survived  \n",
       "Name                                            \n",
       "Aubert, Mrs Leontine Pauline  female         1  \n",
       "Barkworth, Mr Algernon H        male         1  "
      ]
     },
     "execution_count": 15,
     "metadata": {},
     "output_type": "execute_result"
    }
   ],
   "source": [
    "# Missing values\n",
    "dataframe[dataframe[\"Age\"].isnull()].head(2)"
   ]
  },
  {
   "cell_type": "code",
   "execution_count": 16,
   "id": "c28418f5",
   "metadata": {},
   "outputs": [
    {
     "data": {
      "text/plain": [
       "Name\n",
       "Allen, Miss Elisabeth Walton                     female\n",
       "Allison, Miss Helen Loraine                      female\n",
       "Allison, Mr Hudson Joshua Creighton                 NaN\n",
       "Allison, Mrs Hudson JC (Bessie Waldo Daniels)    female\n",
       "Allison, Master Hudson Trevor                       NaN\n",
       "                                                  ...  \n",
       "Zakarian, Mr Artun                                  NaN\n",
       "Zakarian, Mr Maprieder                              NaN\n",
       "Zenni, Mr Philip                                    NaN\n",
       "Lievens, Mr Rene                                    NaN\n",
       "Zimmerman, Leo                                      NaN\n",
       "Name: Sex, Length: 1313, dtype: object"
      ]
     },
     "execution_count": 16,
     "metadata": {},
     "output_type": "execute_result"
    }
   ],
   "source": [
    "# Replacing values with NaN\n",
    "import numpy as np\n",
    "dataframe[\"Sex\"].replace(\"male\",np.nan)"
   ]
  },
  {
   "cell_type": "code",
   "execution_count": 17,
   "id": "ea57f7d0",
   "metadata": {},
   "outputs": [],
   "source": [
    "#Load Data, Set missing values\n",
    "dataframe = pd.read_csv(url,na_values=[np.nan,\"NONE\",-999])"
   ]
  },
  {
   "cell_type": "code",
   "execution_count": 18,
   "id": "0e7fcf98",
   "metadata": {},
   "outputs": [
    {
     "data": {
      "text/html": [
       "<div>\n",
       "<style scoped>\n",
       "    .dataframe tbody tr th:only-of-type {\n",
       "        vertical-align: middle;\n",
       "    }\n",
       "\n",
       "    .dataframe tbody tr th {\n",
       "        vertical-align: top;\n",
       "    }\n",
       "\n",
       "    .dataframe thead th {\n",
       "        text-align: right;\n",
       "    }\n",
       "</style>\n",
       "<table border=\"1\" class=\"dataframe\">\n",
       "  <thead>\n",
       "    <tr style=\"text-align: right;\">\n",
       "      <th></th>\n",
       "      <th>Name</th>\n",
       "      <th>Age</th>\n",
       "      <th>Sex</th>\n",
       "      <th>Survived</th>\n",
       "    </tr>\n",
       "  </thead>\n",
       "  <tbody>\n",
       "    <tr>\n",
       "      <th>0</th>\n",
       "      <td>Allen, Miss Elisabeth Walton</td>\n",
       "      <td>29.00</td>\n",
       "      <td>female</td>\n",
       "      <td>1</td>\n",
       "    </tr>\n",
       "    <tr>\n",
       "      <th>1</th>\n",
       "      <td>Allison, Miss Helen Loraine</td>\n",
       "      <td>2.00</td>\n",
       "      <td>female</td>\n",
       "      <td>0</td>\n",
       "    </tr>\n",
       "    <tr>\n",
       "      <th>2</th>\n",
       "      <td>Allison, Mr Hudson Joshua Creighton</td>\n",
       "      <td>30.00</td>\n",
       "      <td>male</td>\n",
       "      <td>0</td>\n",
       "    </tr>\n",
       "    <tr>\n",
       "      <th>3</th>\n",
       "      <td>Allison, Mrs Hudson JC (Bessie Waldo Daniels)</td>\n",
       "      <td>25.00</td>\n",
       "      <td>female</td>\n",
       "      <td>0</td>\n",
       "    </tr>\n",
       "    <tr>\n",
       "      <th>4</th>\n",
       "      <td>Allison, Master Hudson Trevor</td>\n",
       "      <td>0.92</td>\n",
       "      <td>male</td>\n",
       "      <td>1</td>\n",
       "    </tr>\n",
       "  </tbody>\n",
       "</table>\n",
       "</div>"
      ],
      "text/plain": [
       "                                            Name    Age     Sex  Survived\n",
       "0                   Allen, Miss Elisabeth Walton  29.00  female         1\n",
       "1                    Allison, Miss Helen Loraine   2.00  female         0\n",
       "2            Allison, Mr Hudson Joshua Creighton  30.00    male         0\n",
       "3  Allison, Mrs Hudson JC (Bessie Waldo Daniels)  25.00  female         0\n",
       "4                  Allison, Master Hudson Trevor   0.92    male         1"
      ]
     },
     "execution_count": 18,
     "metadata": {},
     "output_type": "execute_result"
    }
   ],
   "source": [
    "# Deleting Columns\n",
    "\n",
    "dataframe.drop(\"Age\",axis=1).head(5)\n",
    "\n",
    "dataframe.drop([\"Age\",\"Sex\"],axis=1).head(5)\n",
    "\n",
    "dataframe.drop(dataframe.columns[1],axis=1).head(5) #using index if names not available"
   ]
  },
  {
   "cell_type": "code",
   "execution_count": 19,
   "id": "41c0dace",
   "metadata": {},
   "outputs": [
    {
     "data": {
      "text/html": [
       "<div>\n",
       "<style scoped>\n",
       "    .dataframe tbody tr th:only-of-type {\n",
       "        vertical-align: middle;\n",
       "    }\n",
       "\n",
       "    .dataframe tbody tr th {\n",
       "        vertical-align: top;\n",
       "    }\n",
       "\n",
       "    .dataframe thead th {\n",
       "        text-align: right;\n",
       "    }\n",
       "</style>\n",
       "<table border=\"1\" class=\"dataframe\">\n",
       "  <thead>\n",
       "    <tr style=\"text-align: right;\">\n",
       "      <th></th>\n",
       "      <th>Name</th>\n",
       "      <th>PClass</th>\n",
       "      <th>Age</th>\n",
       "      <th>Sex</th>\n",
       "      <th>Survived</th>\n",
       "    </tr>\n",
       "  </thead>\n",
       "  <tbody>\n",
       "    <tr>\n",
       "      <th>1</th>\n",
       "      <td>Allison, Miss Helen Loraine</td>\n",
       "      <td>1st</td>\n",
       "      <td>2.0</td>\n",
       "      <td>female</td>\n",
       "      <td>0</td>\n",
       "    </tr>\n",
       "    <tr>\n",
       "      <th>2</th>\n",
       "      <td>Allison, Mr Hudson Joshua Creighton</td>\n",
       "      <td>1st</td>\n",
       "      <td>30.0</td>\n",
       "      <td>male</td>\n",
       "      <td>0</td>\n",
       "    </tr>\n",
       "    <tr>\n",
       "      <th>3</th>\n",
       "      <td>Allison, Mrs Hudson JC (Bessie Waldo Daniels)</td>\n",
       "      <td>1st</td>\n",
       "      <td>25.0</td>\n",
       "      <td>female</td>\n",
       "      <td>0</td>\n",
       "    </tr>\n",
       "  </tbody>\n",
       "</table>\n",
       "</div>"
      ],
      "text/plain": [
       "                                            Name PClass   Age     Sex  \\\n",
       "1                    Allison, Miss Helen Loraine    1st   2.0  female   \n",
       "2            Allison, Mr Hudson Joshua Creighton    1st  30.0    male   \n",
       "3  Allison, Mrs Hudson JC (Bessie Waldo Daniels)    1st  25.0  female   \n",
       "\n",
       "   Survived  \n",
       "1         0  \n",
       "2         0  \n",
       "3         0  "
      ]
     },
     "execution_count": 19,
     "metadata": {},
     "output_type": "execute_result"
    }
   ],
   "source": [
    "# Deleting Rows\n",
    "\n",
    "dataframe[dataframe[\"Sex\"] != \"female\"].head(4)\n",
    "\n",
    "dataframe[dataframe[\"Age\"] >=18 ].head(4)\n",
    "\n",
    "dataframe[dataframe.index != 0].head(3) #Using index "
   ]
  },
  {
   "cell_type": "code",
   "execution_count": 20,
   "id": "8db6233a",
   "metadata": {},
   "outputs": [
    {
     "data": {
      "text/html": [
       "<div>\n",
       "<style scoped>\n",
       "    .dataframe tbody tr th:only-of-type {\n",
       "        vertical-align: middle;\n",
       "    }\n",
       "\n",
       "    .dataframe tbody tr th {\n",
       "        vertical-align: top;\n",
       "    }\n",
       "\n",
       "    .dataframe thead th {\n",
       "        text-align: right;\n",
       "    }\n",
       "</style>\n",
       "<table border=\"1\" class=\"dataframe\">\n",
       "  <thead>\n",
       "    <tr style=\"text-align: right;\">\n",
       "      <th></th>\n",
       "      <th>Name</th>\n",
       "      <th>PClass</th>\n",
       "      <th>Age</th>\n",
       "      <th>Sex</th>\n",
       "      <th>Survived</th>\n",
       "    </tr>\n",
       "  </thead>\n",
       "  <tbody>\n",
       "    <tr>\n",
       "      <th>1307</th>\n",
       "      <td>Zabour, Miss Tamini</td>\n",
       "      <td>3rd</td>\n",
       "      <td>NaN</td>\n",
       "      <td>female</td>\n",
       "      <td>0</td>\n",
       "    </tr>\n",
       "    <tr>\n",
       "      <th>1312</th>\n",
       "      <td>Zimmerman, Leo</td>\n",
       "      <td>3rd</td>\n",
       "      <td>29.0</td>\n",
       "      <td>male</td>\n",
       "      <td>0</td>\n",
       "    </tr>\n",
       "  </tbody>\n",
       "</table>\n",
       "</div>"
      ],
      "text/plain": [
       "                     Name PClass   Age     Sex  Survived\n",
       "1307  Zabour, Miss Tamini    3rd   NaN  female         0\n",
       "1312       Zimmerman, Leo    3rd  29.0    male         0"
      ]
     },
     "execution_count": 20,
     "metadata": {},
     "output_type": "execute_result"
    }
   ],
   "source": [
    "# Dropping Duplicate rows\n",
    "dataframe.drop_duplicates().head(4) #It will drop only when the both rows have exact row values\n",
    "\n",
    "dataframe.drop_duplicates(subset=[\"Sex\"]) # only unique value will be obtained\n",
    "\n",
    "dataframe.drop_duplicates(subset=[\"Sex\"],keep=\"last\") #keeps last unique\n"
   ]
  },
  {
   "cell_type": "code",
   "execution_count": 21,
   "id": "918305b1",
   "metadata": {},
   "outputs": [
    {
     "data": {
      "text/plain": [
       "Sex     Survived\n",
       "female  0            71\n",
       "        1           217\n",
       "male    0           372\n",
       "        1            96\n",
       "Name: Age, dtype: int64"
      ]
     },
     "execution_count": 21,
     "metadata": {},
     "output_type": "execute_result"
    }
   ],
   "source": [
    "# Grouping rows by values\n",
    "\n",
    "dataframe.groupby(\"Sex\").mean()\n",
    "\n",
    "dataframe.groupby(\"Survived\")['Name'].count()\n",
    "\n",
    "dataframe.groupby(\"Survived\").count()\n",
    "\n",
    "dataframe.groupby([\"Sex\",\"Survived\"])[\"Age\"].count()"
   ]
  },
  {
   "cell_type": "code",
   "execution_count": 22,
   "id": "81509ee2",
   "metadata": {
    "scrolled": true
   },
   "outputs": [
    {
     "data": {
      "text/plain": [
       "2012-11-30    51840\n",
       "2012-12-31    48160\n",
       "Freq: M, Name: Sale_Amount, dtype: int64"
      ]
     },
     "execution_count": 22,
     "metadata": {},
     "output_type": "execute_result"
    }
   ],
   "source": [
    "# Group Rows by Time\n",
    "#Create date range\n",
    "time_index = pd.date_range(\"14/12/2012\",periods=100000,freq=\"30S\") # \"30S\"-30 secs frequency\n",
    "\n",
    "#Create DataFrame\n",
    "dataframe = pd.DataFrame(index=time_index)\n",
    "\n",
    "#Add Columns\n",
    "dataframe[\"Sale_Amount\"] = np.random.randint(1,10,100000)\n",
    "\n",
    "#Group rows by week, calculate sum per week\n",
    "dataframe[\"Sale_Amount\"].resample(\"W\").sum()\n",
    "\n",
    "dataframe[\"Sale_Amount\"].resample(\"2W\").mean() # 2 weeks mean\n",
    "\n",
    "dataframe[\"Sale_Amount\"].resample(\"M\").count() #monthly count\n",
    "\n",
    "#resample returns the label of the right “edge” (the last label) of the time group.\n",
    "#We can control this behavior using the label parameter:\n",
    "\n",
    "dataframe[\"Sale_Amount\"].resample(\"M\",label=\"left\").count()"
   ]
  },
  {
   "cell_type": "code",
   "execution_count": 23,
   "id": "da6cd0a3",
   "metadata": {},
   "outputs": [
    {
     "name": "stdout",
     "output_type": "stream",
     "text": [
      "ALLEN, MISS ELISABETH WALTON\n",
      "ALLISON, MISS HELEN LORAINE\n",
      "ALLISON, MR HUDSON JOSHUA CREIGHTON\n",
      "ALLISON, MRS HUDSON JC (BESSIE WALDO DANIELS)\n",
      "ALLISON, MASTER HUDSON TREVOR\n",
      "['ALLEN, MISS ELISABETH WALTON', 'ALLISON, MISS HELEN LORAINE', 'ALLISON, MR HUDSON JOSHUA CREIGHTON', 'ALLISON, MRS HUDSON JC (BESSIE WALDO DANIELS)', 'ALLISON, MASTER HUDSON TREVOR']\n"
     ]
    }
   ],
   "source": [
    "# Looping over a column\n",
    "\n",
    "url = \"https://osf.io/aupb4/download\"\n",
    "\n",
    "dataframe = pd.read_csv(url) \n",
    "\n",
    "for name in dataframe[\"Name\"][0:5]:\n",
    "    print(name.upper())\n",
    "    \n",
    "#List comprehension can be used as\n",
    "print([name.upper() for name in dataframe[\"Name\"][0:5]])"
   ]
  },
  {
   "cell_type": "code",
   "execution_count": 24,
   "id": "43e3415a",
   "metadata": {},
   "outputs": [
    {
     "data": {
      "text/plain": [
       "0                     ALLEN, MISS ELISABETH WALTON\n",
       "1                      ALLISON, MISS HELEN LORAINE\n",
       "2              ALLISON, MR HUDSON JOSHUA CREIGHTON\n",
       "3    ALLISON, MRS HUDSON JC (BESSIE WALDO DANIELS)\n",
       "4                    ALLISON, MASTER HUDSON TREVOR\n",
       "Name: Name, dtype: object"
      ]
     },
     "execution_count": 24,
     "metadata": {},
     "output_type": "execute_result"
    }
   ],
   "source": [
    "# Applying a Function over all elements in a cloumn\n",
    "\n",
    "#Creating a function\n",
    "def uppercase(x):\n",
    "    return x.upper()\n",
    "\n",
    "#apply function to column\n",
    "dataframe[\"Name\"].apply(uppercase)[0:5]\n",
    "\n"
   ]
  },
  {
   "cell_type": "code",
   "execution_count": 25,
   "id": "6d706ae6",
   "metadata": {},
   "outputs": [
    {
     "data": {
      "text/html": [
       "<div>\n",
       "<style scoped>\n",
       "    .dataframe tbody tr th:only-of-type {\n",
       "        vertical-align: middle;\n",
       "    }\n",
       "\n",
       "    .dataframe tbody tr th {\n",
       "        vertical-align: top;\n",
       "    }\n",
       "\n",
       "    .dataframe thead th {\n",
       "        text-align: right;\n",
       "    }\n",
       "</style>\n",
       "<table border=\"1\" class=\"dataframe\">\n",
       "  <thead>\n",
       "    <tr style=\"text-align: right;\">\n",
       "      <th></th>\n",
       "      <th>Name</th>\n",
       "      <th>PClass</th>\n",
       "      <th>Age</th>\n",
       "      <th>Sex</th>\n",
       "      <th>Survived</th>\n",
       "    </tr>\n",
       "    <tr>\n",
       "      <th>Sex</th>\n",
       "      <th></th>\n",
       "      <th></th>\n",
       "      <th></th>\n",
       "      <th></th>\n",
       "      <th></th>\n",
       "    </tr>\n",
       "  </thead>\n",
       "  <tbody>\n",
       "    <tr>\n",
       "      <th>female</th>\n",
       "      <td>462</td>\n",
       "      <td>462</td>\n",
       "      <td>288</td>\n",
       "      <td>462</td>\n",
       "      <td>462</td>\n",
       "    </tr>\n",
       "    <tr>\n",
       "      <th>male</th>\n",
       "      <td>851</td>\n",
       "      <td>850</td>\n",
       "      <td>468</td>\n",
       "      <td>851</td>\n",
       "      <td>851</td>\n",
       "    </tr>\n",
       "  </tbody>\n",
       "</table>\n",
       "</div>"
      ],
      "text/plain": [
       "        Name  PClass  Age  Sex  Survived\n",
       "Sex                                     \n",
       "female   462     462  288  462       462\n",
       "male     851     850  468  851       851"
      ]
     },
     "execution_count": 25,
     "metadata": {},
     "output_type": "execute_result"
    }
   ],
   "source": [
    "# Applying a Function to groups\n",
    "\n",
    "'''By combining groupby and apply we can calculate cus‐\n",
    "tom statistics or apply any function to each group separately.'''\n",
    "\n",
    "dataframe.groupby(\"Sex\").apply(lambda x:x.count())"
   ]
  },
  {
   "cell_type": "code",
   "execution_count": 26,
   "id": "ce52d650",
   "metadata": {},
   "outputs": [
    {
     "data": {
      "text/html": [
       "<div>\n",
       "<style scoped>\n",
       "    .dataframe tbody tr th:only-of-type {\n",
       "        vertical-align: middle;\n",
       "    }\n",
       "\n",
       "    .dataframe tbody tr th {\n",
       "        vertical-align: top;\n",
       "    }\n",
       "\n",
       "    .dataframe thead th {\n",
       "        text-align: right;\n",
       "    }\n",
       "</style>\n",
       "<table border=\"1\" class=\"dataframe\">\n",
       "  <thead>\n",
       "    <tr style=\"text-align: right;\">\n",
       "      <th></th>\n",
       "      <th>id</th>\n",
       "      <th>name</th>\n",
       "    </tr>\n",
       "  </thead>\n",
       "  <tbody>\n",
       "    <tr>\n",
       "      <th>0</th>\n",
       "      <td>1</td>\n",
       "      <td>sd</td>\n",
       "    </tr>\n",
       "    <tr>\n",
       "      <th>1</th>\n",
       "      <td>2</td>\n",
       "      <td>ds</td>\n",
       "    </tr>\n",
       "    <tr>\n",
       "      <th>2</th>\n",
       "      <td>3</td>\n",
       "      <td>ss</td>\n",
       "    </tr>\n",
       "    <tr>\n",
       "      <th>3</th>\n",
       "      <td>5</td>\n",
       "      <td>huihedf</td>\n",
       "    </tr>\n",
       "  </tbody>\n",
       "</table>\n",
       "</div>"
      ],
      "text/plain": [
       "  id     name\n",
       "0  1       sd\n",
       "1  2       ds\n",
       "2  3       ss\n",
       "3  5  huihedf"
      ]
     },
     "execution_count": 26,
     "metadata": {},
     "output_type": "execute_result"
    }
   ],
   "source": [
    "# Concatenating DataFrames\n",
    "\n",
    "data1 = {\"id\":[\"1\",\"2\",\"3\"],\n",
    "        \"name\":[\"sd\",\"ds\",\"ss\"]}\n",
    "dataframe1 = pd.DataFrame(data1,columns=[\"id\",\"name\"])\n",
    "\n",
    "data2 = {\"id\":[\"4\",\"5\",\"6\"],\n",
    "        \"name\":[\"fd\",\"df\",\"ff\"]}\n",
    "dataframe2 = pd.DataFrame(data2,columns=[\"id\",\"name\"])\n",
    "\n",
    "pd.concat([dataframe1,dataframe2],axis=0)\n",
    "\n",
    "pd.concat([dataframe1,dataframe2],axis=1)\n",
    "\n",
    "# Add Series to Dataframe\n",
    "row = pd.Series([\"5\",\"huihedf\"],index=[\"id\",\"name\"])\n",
    "\n",
    "dataframe1.append(row,ignore_index=True)"
   ]
  },
  {
   "cell_type": "code",
   "execution_count": 27,
   "id": "a1c376b7",
   "metadata": {},
   "outputs": [
    {
     "data": {
      "text/html": [
       "<div>\n",
       "<style scoped>\n",
       "    .dataframe tbody tr th:only-of-type {\n",
       "        vertical-align: middle;\n",
       "    }\n",
       "\n",
       "    .dataframe tbody tr th {\n",
       "        vertical-align: top;\n",
       "    }\n",
       "\n",
       "    .dataframe thead th {\n",
       "        text-align: right;\n",
       "    }\n",
       "</style>\n",
       "<table border=\"1\" class=\"dataframe\">\n",
       "  <thead>\n",
       "    <tr style=\"text-align: right;\">\n",
       "      <th></th>\n",
       "      <th>employee_id</th>\n",
       "      <th>name</th>\n",
       "      <th>total_sales</th>\n",
       "    </tr>\n",
       "  </thead>\n",
       "  <tbody>\n",
       "    <tr>\n",
       "      <th>0</th>\n",
       "      <td>3</td>\n",
       "      <td>C</td>\n",
       "      <td>1323</td>\n",
       "    </tr>\n",
       "    <tr>\n",
       "      <th>1</th>\n",
       "      <td>4</td>\n",
       "      <td>D</td>\n",
       "      <td>3254</td>\n",
       "    </tr>\n",
       "  </tbody>\n",
       "</table>\n",
       "</div>"
      ],
      "text/plain": [
       "  employee_id name  total_sales\n",
       "0           3    C         1323\n",
       "1           4    D         3254"
      ]
     },
     "execution_count": 27,
     "metadata": {},
     "output_type": "execute_result"
    }
   ],
   "source": [
    "# Merging DataFrames\n",
    "import pandas as pd\n",
    "employees = {\"employee_id\":['1','2','3','4'],\n",
    "            'name':[\"A\",\"B\",\"C\",\"D\"]}\n",
    "dataframe_employees = pd.DataFrame(employees,columns=[\"employee_id\",\"name\"])\n",
    "\n",
    "sales = {\"employee_id\":[\"3\",\"4\",\"5\",\"6\"],\n",
    "        \"total_sales\":[1323,3254,2343,424]}\n",
    "dataframe_sales = pd.DataFrame(sales,columns=[\"employee_id\",\"total_sales\"])\n",
    "\n",
    "#Merge DataFrames\n",
    "pd.merge(dataframe_employees,dataframe_sales,on=\"employee_id\")\n",
    "# Defaults to inner join"
   ]
  },
  {
   "cell_type": "code",
   "execution_count": 28,
   "id": "6897ec05",
   "metadata": {},
   "outputs": [
    {
     "data": {
      "text/html": [
       "<div>\n",
       "<style scoped>\n",
       "    .dataframe tbody tr th:only-of-type {\n",
       "        vertical-align: middle;\n",
       "    }\n",
       "\n",
       "    .dataframe tbody tr th {\n",
       "        vertical-align: top;\n",
       "    }\n",
       "\n",
       "    .dataframe thead th {\n",
       "        text-align: right;\n",
       "    }\n",
       "</style>\n",
       "<table border=\"1\" class=\"dataframe\">\n",
       "  <thead>\n",
       "    <tr style=\"text-align: right;\">\n",
       "      <th></th>\n",
       "      <th>employee_id</th>\n",
       "      <th>name</th>\n",
       "      <th>total_sales</th>\n",
       "    </tr>\n",
       "  </thead>\n",
       "  <tbody>\n",
       "    <tr>\n",
       "      <th>0</th>\n",
       "      <td>1</td>\n",
       "      <td>A</td>\n",
       "      <td>NaN</td>\n",
       "    </tr>\n",
       "    <tr>\n",
       "      <th>1</th>\n",
       "      <td>2</td>\n",
       "      <td>B</td>\n",
       "      <td>NaN</td>\n",
       "    </tr>\n",
       "    <tr>\n",
       "      <th>2</th>\n",
       "      <td>3</td>\n",
       "      <td>C</td>\n",
       "      <td>1323.0</td>\n",
       "    </tr>\n",
       "    <tr>\n",
       "      <th>3</th>\n",
       "      <td>4</td>\n",
       "      <td>D</td>\n",
       "      <td>3254.0</td>\n",
       "    </tr>\n",
       "    <tr>\n",
       "      <th>4</th>\n",
       "      <td>5</td>\n",
       "      <td>NaN</td>\n",
       "      <td>2343.0</td>\n",
       "    </tr>\n",
       "    <tr>\n",
       "      <th>5</th>\n",
       "      <td>6</td>\n",
       "      <td>NaN</td>\n",
       "      <td>424.0</td>\n",
       "    </tr>\n",
       "  </tbody>\n",
       "</table>\n",
       "</div>"
      ],
      "text/plain": [
       "  employee_id name  total_sales\n",
       "0           1    A          NaN\n",
       "1           2    B          NaN\n",
       "2           3    C       1323.0\n",
       "3           4    D       3254.0\n",
       "4           5  NaN       2343.0\n",
       "5           6  NaN        424.0"
      ]
     },
     "execution_count": 28,
     "metadata": {},
     "output_type": "execute_result"
    }
   ],
   "source": [
    "# Outer join\n",
    "pd.merge(dataframe_employees,dataframe_sales,on=\"employee_id\",how=\"outer\")"
   ]
  },
  {
   "cell_type": "code",
   "execution_count": 29,
   "id": "fb939e55",
   "metadata": {},
   "outputs": [
    {
     "data": {
      "text/html": [
       "<div>\n",
       "<style scoped>\n",
       "    .dataframe tbody tr th:only-of-type {\n",
       "        vertical-align: middle;\n",
       "    }\n",
       "\n",
       "    .dataframe tbody tr th {\n",
       "        vertical-align: top;\n",
       "    }\n",
       "\n",
       "    .dataframe thead th {\n",
       "        text-align: right;\n",
       "    }\n",
       "</style>\n",
       "<table border=\"1\" class=\"dataframe\">\n",
       "  <thead>\n",
       "    <tr style=\"text-align: right;\">\n",
       "      <th></th>\n",
       "      <th>employee_id</th>\n",
       "      <th>name</th>\n",
       "      <th>total_sales</th>\n",
       "    </tr>\n",
       "  </thead>\n",
       "  <tbody>\n",
       "    <tr>\n",
       "      <th>0</th>\n",
       "      <td>1</td>\n",
       "      <td>A</td>\n",
       "      <td>NaN</td>\n",
       "    </tr>\n",
       "    <tr>\n",
       "      <th>1</th>\n",
       "      <td>2</td>\n",
       "      <td>B</td>\n",
       "      <td>NaN</td>\n",
       "    </tr>\n",
       "    <tr>\n",
       "      <th>2</th>\n",
       "      <td>3</td>\n",
       "      <td>C</td>\n",
       "      <td>1323.0</td>\n",
       "    </tr>\n",
       "    <tr>\n",
       "      <th>3</th>\n",
       "      <td>4</td>\n",
       "      <td>D</td>\n",
       "      <td>3254.0</td>\n",
       "    </tr>\n",
       "  </tbody>\n",
       "</table>\n",
       "</div>"
      ],
      "text/plain": [
       "  employee_id name  total_sales\n",
       "0           1    A          NaN\n",
       "1           2    B          NaN\n",
       "2           3    C       1323.0\n",
       "3           4    D       3254.0"
      ]
     },
     "execution_count": 29,
     "metadata": {},
     "output_type": "execute_result"
    }
   ],
   "source": [
    "# Left join\n",
    "pd.merge(dataframe_employees,dataframe_sales,on=\"employee_id\",how=\"left\")"
   ]
  },
  {
   "cell_type": "code",
   "execution_count": 30,
   "id": "2207a601",
   "metadata": {},
   "outputs": [
    {
     "data": {
      "text/html": [
       "<div>\n",
       "<style scoped>\n",
       "    .dataframe tbody tr th:only-of-type {\n",
       "        vertical-align: middle;\n",
       "    }\n",
       "\n",
       "    .dataframe tbody tr th {\n",
       "        vertical-align: top;\n",
       "    }\n",
       "\n",
       "    .dataframe thead th {\n",
       "        text-align: right;\n",
       "    }\n",
       "</style>\n",
       "<table border=\"1\" class=\"dataframe\">\n",
       "  <thead>\n",
       "    <tr style=\"text-align: right;\">\n",
       "      <th></th>\n",
       "      <th>employee_id</th>\n",
       "      <th>name</th>\n",
       "      <th>total_sales</th>\n",
       "    </tr>\n",
       "  </thead>\n",
       "  <tbody>\n",
       "    <tr>\n",
       "      <th>0</th>\n",
       "      <td>3</td>\n",
       "      <td>C</td>\n",
       "      <td>1323</td>\n",
       "    </tr>\n",
       "    <tr>\n",
       "      <th>1</th>\n",
       "      <td>4</td>\n",
       "      <td>D</td>\n",
       "      <td>3254</td>\n",
       "    </tr>\n",
       "    <tr>\n",
       "      <th>2</th>\n",
       "      <td>5</td>\n",
       "      <td>NaN</td>\n",
       "      <td>2343</td>\n",
       "    </tr>\n",
       "    <tr>\n",
       "      <th>3</th>\n",
       "      <td>6</td>\n",
       "      <td>NaN</td>\n",
       "      <td>424</td>\n",
       "    </tr>\n",
       "  </tbody>\n",
       "</table>\n",
       "</div>"
      ],
      "text/plain": [
       "  employee_id name  total_sales\n",
       "0           3    C         1323\n",
       "1           4    D         3254\n",
       "2           5  NaN         2343\n",
       "3           6  NaN          424"
      ]
     },
     "execution_count": 30,
     "metadata": {},
     "output_type": "execute_result"
    }
   ],
   "source": [
    "# Right join\n",
    "pd.merge(dataframe_employees,dataframe_sales,on=\"employee_id\",how=\"right\")"
   ]
  },
  {
   "cell_type": "code",
   "execution_count": 31,
   "id": "0f2d9219",
   "metadata": {},
   "outputs": [
    {
     "data": {
      "text/html": [
       "<div>\n",
       "<style scoped>\n",
       "    .dataframe tbody tr th:only-of-type {\n",
       "        vertical-align: middle;\n",
       "    }\n",
       "\n",
       "    .dataframe tbody tr th {\n",
       "        vertical-align: top;\n",
       "    }\n",
       "\n",
       "    .dataframe thead th {\n",
       "        text-align: right;\n",
       "    }\n",
       "</style>\n",
       "<table border=\"1\" class=\"dataframe\">\n",
       "  <thead>\n",
       "    <tr style=\"text-align: right;\">\n",
       "      <th></th>\n",
       "      <th>employee_id</th>\n",
       "      <th>name</th>\n",
       "      <th>total_sales</th>\n",
       "    </tr>\n",
       "  </thead>\n",
       "  <tbody>\n",
       "    <tr>\n",
       "      <th>0</th>\n",
       "      <td>3</td>\n",
       "      <td>C</td>\n",
       "      <td>1323</td>\n",
       "    </tr>\n",
       "    <tr>\n",
       "      <th>1</th>\n",
       "      <td>4</td>\n",
       "      <td>D</td>\n",
       "      <td>3254</td>\n",
       "    </tr>\n",
       "  </tbody>\n",
       "</table>\n",
       "</div>"
      ],
      "text/plain": [
       "  employee_id name  total_sales\n",
       "0           3    C         1323\n",
       "1           4    D         3254"
      ]
     },
     "execution_count": 31,
     "metadata": {},
     "output_type": "execute_result"
    }
   ],
   "source": [
    "'''If instead of merging on two columns we want to merge on the indexes of each Data‐\n",
    "Frame, we can replace the left_on and right_on parameters with right_index=True\n",
    "and left_index=True .'''\n",
    "\n",
    "pd.merge(dataframe_employees,\n",
    "dataframe_sales,\n",
    "left_on='employee_id',\n",
    "right_on='employee_id')"
   ]
  },
  {
   "cell_type": "code",
   "execution_count": 32,
   "id": "6dcc1915",
   "metadata": {},
   "outputs": [
    {
     "data": {
      "text/plain": [
       "'Inner\\nReturn only the rows that match in both DataFrames (e.g., return any row with\\nan employee_id value appearing in both dataframe_employees and data\\nframe_sales ).\\nOuter\\nReturn all rows in both DataFrames. If a row exists in one DataFrame but not in\\nthe other DataFrame, fill NaN values for the missing values (e.g., return all rows\\nin both employee_id and dataframe_sales ).\\nLeft\\nReturn all rows from the left DataFrame but only rows from the right DataFrame\\nthat matched with the left DataFrame. Fill NaN values for the missing values (e.g.,\\nreturn all rows from dataframe_employees but only rows from data\\nframe_sales that have a value for employee_id that appears in data\\nframe_employees ).\\nRight\\nReturn all rows from the right DataFrame but only rows from the left DataFrame\\nthat matched with the right DataFrame. Fill NaN values for the missing values\\n(e.g., return all rows from dataframe_sales but only rows from data frame_employees that have a value for employee_id that appears in data\\nframe_sales ).'"
      ]
     },
     "execution_count": 32,
     "metadata": {},
     "output_type": "execute_result"
    }
   ],
   "source": [
    "#Joins\n",
    "'''Inner\n",
    "Return only the rows that match in both DataFrames (e.g., return any row with\n",
    "an employee_id value appearing in both dataframe_employees and data\n",
    "frame_sales ).\n",
    "Outer\n",
    "Return all rows in both DataFrames. If a row exists in one DataFrame but not in\n",
    "the other DataFrame, fill NaN values for the missing values (e.g., return all rows\n",
    "in both employee_id and dataframe_sales ).\n",
    "Left\n",
    "Return all rows from the left DataFrame but only rows from the right DataFrame\n",
    "that matched with the left DataFrame. Fill NaN values for the missing values (e.g.,\n",
    "return all rows from dataframe_employees but only rows from data\n",
    "frame_sales that have a value for employee_id that appears in data\n",
    "frame_employees ).\n",
    "Right\n",
    "Return all rows from the right DataFrame but only rows from the left DataFrame\n",
    "that matched with the right DataFrame. Fill NaN values for the missing values\n",
    "(e.g., return all rows from dataframe_sales but only rows from data frame_employees that have a value for employee_id that appears in data\n",
    "frame_sales ).'''"
   ]
  }
 ],
 "metadata": {
  "kernelspec": {
   "display_name": "Python 3",
   "language": "python",
   "name": "python3"
  },
  "language_info": {
   "codemirror_mode": {
    "name": "ipython",
    "version": 3
   },
   "file_extension": ".py",
   "mimetype": "text/x-python",
   "name": "python",
   "nbconvert_exporter": "python",
   "pygments_lexer": "ipython3",
   "version": "3.8.10"
  }
 },
 "nbformat": 4,
 "nbformat_minor": 5
}
