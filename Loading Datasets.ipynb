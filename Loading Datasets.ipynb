{
 "cells": [
  {
   "cell_type": "code",
   "execution_count": 1,
   "id": "6f3e6b0e",
   "metadata": {},
   "outputs": [
    {
     "name": "stdout",
     "output_type": "stream",
     "text": [
      "[ 0.  0.  5. 13.  9.  1.  0.  0.  0.  0. 13. 15. 10. 15.  5.  0.  0.  3.\n",
      " 15.  2.  0. 11.  8.  0.  0.  4. 12.  0.  0.  8.  8.  0.  0.  5.  8.  0.\n",
      "  0.  9.  8.  0.  0.  4. 11.  0.  1. 12.  7.  0.  0.  2. 14.  5. 10. 12.\n",
      "  0.  0.  0.  0.  6. 13. 10.  0.  0.  0.]\n",
      "0\n"
     ]
    }
   ],
   "source": [
    "#Loading a dataset\n",
    "from sklearn import datasets\n",
    "\n",
    "#Load digits dataset\n",
    "digits = datasets.load_digits() #--images of handwritten digits\n",
    "#load_iris()\n",
    "#load_boston() --housing prices\n",
    "#Creating features matrix\n",
    "features = digits.data\n",
    "\n",
    "#Create target vector\n",
    "target = digits.target\n",
    "\n",
    "print(features[0])\n",
    "print(target[0])"
   ]
  },
  {
   "cell_type": "code",
   "execution_count": 2,
   "id": "44820390",
   "metadata": {},
   "outputs": [
    {
     "name": "stdout",
     "output_type": "stream",
     "text": [
      "Feature matrix\n",
      " [[ 0.82470301 -0.07721867  1.24821292 -0.18946926]\n",
      " [ 0.24143963  0.75650214  0.49742565  0.12482365]\n",
      " [-0.18325657  0.59166652  1.01985473 -1.06079904]]\n",
      "Target vector\n",
      " [70.85513158 72.26439615 15.78391562]\n"
     ]
    }
   ],
   "source": [
    "#Creating a simulated dataset\n",
    "\n",
    "# For Regression \n",
    "from sklearn.datasets import make_regression\n",
    "\n",
    "#Generating features matrix,target vector, and the true coefficients\n",
    "features, target, coefficients = make_regression(n_samples=100,\n",
    "                                                n_features= 4,\n",
    "                                                n_informative = 4,\n",
    "                                                n_targets=1,\n",
    "                                                noise=0,\n",
    "                                                coef=True,\n",
    "                                                random_state =2)\n",
    "#n_informative -- determines the number of features used to generate the target vector\n",
    "#if n_informative is less than the number if features then the resulting dataset have redundant features\n",
    "\n",
    "print(\"Feature matrix\\n\",features[:3])\n",
    "print(\"Target vector\\n\",target[:3])"
   ]
  },
  {
   "cell_type": "code",
   "execution_count": 3,
   "id": "c6f9e4a9",
   "metadata": {},
   "outputs": [
    {
     "name": "stdout",
     "output_type": "stream",
     "text": [
      "Feature matrix\n",
      " [[-0.51567689  1.21996436  0.83930598]\n",
      " [ 0.22626101  0.58743604  0.59950381]\n",
      " [-0.74545949  0.64179216 -0.87320047]]\n",
      "Target vector\n",
      " [0 1 1]\n"
     ]
    }
   ],
   "source": [
    "# For Classification\n",
    "from sklearn.datasets import make_classification\n",
    "\n",
    "features,target = make_classification(n_samples=100,\n",
    "                                     n_features=3,\n",
    "                                     n_informative=3,\n",
    "                                     n_redundant=0,\n",
    "                                     n_classes =2,\n",
    "                                     weights=[.25,.75],\n",
    "                                     random_state=2)\n",
    "#weights -- it allows us to simulate datasets with imbalanced classes\n",
    "#weights = [.25, .75] would return a dataset with 25% of observations belonging to one class and 75% of observations belonging to a second class.\n",
    "print(\"Feature matrix\\n\",features[:3])\n",
    "print(\"Target vector\\n\",target[:3])"
   ]
  },
  {
   "cell_type": "code",
   "execution_count": 4,
   "id": "b15f7fed",
   "metadata": {},
   "outputs": [
    {
     "name": "stdout",
     "output_type": "stream",
     "text": [
      "Feature matrix\n",
      " [[-6.46748165  2.09323377 -4.39420007]\n",
      " [-1.43552376 -1.10485726 -2.89021913]\n",
      " [-5.79314363  2.74926377 -4.01345445]]\n",
      "Target vector\n",
      " [2 1 2]\n"
     ]
    },
    {
     "data": {
      "image/png": "[encoded data removed]",
      "text/plain": [
       "<Figure size 432x288 with 1 Axes>"
      ]
     },
     "metadata": {
      "needs_background": "light"
     },
     "output_type": "display_data"
    }
   ],
   "source": [
    "#For Clustering techniques\n",
    "from sklearn.datasets import make_blobs\n",
    "\n",
    "features, target = make_blobs(n_samples=100,\n",
    "                             n_features=3,\n",
    "                             centers=3,\n",
    "                             cluster_std=0.5,\n",
    "                             shuffle=True,\n",
    "                             random_state=2)\n",
    "print(\"Feature matrix\\n\",features[:3])\n",
    "print(\"Target vector\\n\",target[:3])\n",
    "\n",
    "#centers --parameter determines the number of clusters generated.\n",
    "\n",
    "import matplotlib.pyplot as plt\n",
    "#Scatterplot\n",
    "plt.scatter(features[:,0],features[:,1],c=target)\n",
    "plt.show()"
   ]
  },
  {
   "cell_type": "code",
   "execution_count": 5,
   "id": "1acbe53b",
   "metadata": {},
   "outputs": [
    {
     "data": {
      "text/html": [
       "<div>\n",
       "<style scoped>\n",
       "    .dataframe tbody tr th:only-of-type {\n",
       "        vertical-align: middle;\n",
       "    }\n",
       "\n",
       "    .dataframe tbody tr th {\n",
       "        vertical-align: top;\n",
       "    }\n",
       "\n",
       "    .dataframe thead th {\n",
       "        text-align: right;\n",
       "    }\n",
       "</style>\n",
       "<table border=\"1\" class=\"dataframe\">\n",
       "  <thead>\n",
       "    <tr style=\"text-align: right;\">\n",
       "      <th></th>\n",
       "      <th>Name</th>\n",
       "      <th>\"Sex\"</th>\n",
       "      <th>\"Age\"</th>\n",
       "      <th>\"Height (in)\"</th>\n",
       "      <th>\"Weight (lbs)\"</th>\n",
       "    </tr>\n",
       "  </thead>\n",
       "  <tbody>\n",
       "    <tr>\n",
       "      <th>0</th>\n",
       "      <td>Alex</td>\n",
       "      <td>\"M\"</td>\n",
       "      <td>41</td>\n",
       "      <td>74</td>\n",
       "      <td>170</td>\n",
       "    </tr>\n",
       "    <tr>\n",
       "      <th>1</th>\n",
       "      <td>Bert</td>\n",
       "      <td>\"M\"</td>\n",
       "      <td>42</td>\n",
       "      <td>68</td>\n",
       "      <td>166</td>\n",
       "    </tr>\n",
       "    <tr>\n",
       "      <th>2</th>\n",
       "      <td>Carl</td>\n",
       "      <td>\"M\"</td>\n",
       "      <td>32</td>\n",
       "      <td>70</td>\n",
       "      <td>155</td>\n",
       "    </tr>\n",
       "  </tbody>\n",
       "</table>\n",
       "</div>"
      ],
      "text/plain": [
       "   Name       \"Sex\"   \"Age\"   \"Height (in)\"   \"Weight (lbs)\"\n",
       "0  Alex         \"M\"      41              74              170\n",
       "1  Bert         \"M\"      42              68              166\n",
       "2  Carl         \"M\"      32              70              155"
      ]
     },
     "execution_count": 5,
     "metadata": {},
     "output_type": "execute_result"
    }
   ],
   "source": [
    "# Loading CSV file\n",
    "import pandas as pd\n",
    "\n",
    "url = \"https://people.sc.fsu.edu/~jburkardt/data/csv/biostats.csv\"\n",
    "\n",
    "dataframe = pd.read_csv(url) #Url or local CSV file address available in local machine can be loaded\n",
    "dataframe.head(3)\n",
    "\n",
    "#read_csv() has 30 parameters used to handle a wide variety of CSV formats\n",
    "# sep in read_csv allows us to difine the delimiter used in the file. like comma,tab\n",
    "# header in read_csv is used to provide a specific row as header. If there is no header than header = None"
   ]
  },
  {
   "cell_type": "code",
   "execution_count": 6,
   "id": "699d6435",
   "metadata": {},
   "outputs": [
    {
     "data": {
      "text/html": [
       "<div>\n",
       "<style scoped>\n",
       "    .dataframe tbody tr th:only-of-type {\n",
       "        vertical-align: middle;\n",
       "    }\n",
       "\n",
       "    .dataframe tbody tr th {\n",
       "        vertical-align: top;\n",
       "    }\n",
       "\n",
       "    .dataframe thead th {\n",
       "        text-align: right;\n",
       "    }\n",
       "</style>\n",
       "<table border=\"1\" class=\"dataframe\">\n",
       "  <thead>\n",
       "    <tr style=\"text-align: right;\">\n",
       "      <th></th>\n",
       "      <th>0</th>\n",
       "      <th>First Name</th>\n",
       "      <th>Last Name</th>\n",
       "      <th>Gender</th>\n",
       "      <th>Country</th>\n",
       "      <th>Age</th>\n",
       "      <th>Date</th>\n",
       "      <th>Id</th>\n",
       "    </tr>\n",
       "  </thead>\n",
       "  <tbody>\n",
       "    <tr>\n",
       "      <th>0</th>\n",
       "      <td>1</td>\n",
       "      <td>Dulce</td>\n",
       "      <td>Abril</td>\n",
       "      <td>Female</td>\n",
       "      <td>United States</td>\n",
       "      <td>32</td>\n",
       "      <td>15/10/2017</td>\n",
       "      <td>1562</td>\n",
       "    </tr>\n",
       "    <tr>\n",
       "      <th>1</th>\n",
       "      <td>2</td>\n",
       "      <td>Mara</td>\n",
       "      <td>Hashimoto</td>\n",
       "      <td>Female</td>\n",
       "      <td>Great Britain</td>\n",
       "      <td>25</td>\n",
       "      <td>16/08/2016</td>\n",
       "      <td>1582</td>\n",
       "    </tr>\n",
       "    <tr>\n",
       "      <th>2</th>\n",
       "      <td>3</td>\n",
       "      <td>Philip</td>\n",
       "      <td>Gent</td>\n",
       "      <td>Male</td>\n",
       "      <td>France</td>\n",
       "      <td>36</td>\n",
       "      <td>21/05/2015</td>\n",
       "      <td>2587</td>\n",
       "    </tr>\n",
       "    <tr>\n",
       "      <th>3</th>\n",
       "      <td>4</td>\n",
       "      <td>Kathleen</td>\n",
       "      <td>Hanner</td>\n",
       "      <td>Female</td>\n",
       "      <td>United States</td>\n",
       "      <td>25</td>\n",
       "      <td>15/10/2017</td>\n",
       "      <td>3549</td>\n",
       "    </tr>\n",
       "    <tr>\n",
       "      <th>4</th>\n",
       "      <td>5</td>\n",
       "      <td>Nereida</td>\n",
       "      <td>Magwood</td>\n",
       "      <td>Female</td>\n",
       "      <td>United States</td>\n",
       "      <td>58</td>\n",
       "      <td>16/08/2016</td>\n",
       "      <td>2468</td>\n",
       "    </tr>\n",
       "    <tr>\n",
       "      <th>5</th>\n",
       "      <td>6</td>\n",
       "      <td>Gaston</td>\n",
       "      <td>Brumm</td>\n",
       "      <td>Male</td>\n",
       "      <td>United States</td>\n",
       "      <td>24</td>\n",
       "      <td>21/05/2015</td>\n",
       "      <td>2554</td>\n",
       "    </tr>\n",
       "    <tr>\n",
       "      <th>6</th>\n",
       "      <td>7</td>\n",
       "      <td>Etta</td>\n",
       "      <td>Hurn</td>\n",
       "      <td>Female</td>\n",
       "      <td>Great Britain</td>\n",
       "      <td>56</td>\n",
       "      <td>15/10/2017</td>\n",
       "      <td>3598</td>\n",
       "    </tr>\n",
       "  </tbody>\n",
       "</table>\n",
       "</div>"
      ],
      "text/plain": [
       "   0 First Name  Last Name  Gender        Country  Age        Date    Id\n",
       "0  1      Dulce      Abril  Female  United States   32  15/10/2017  1562\n",
       "1  2       Mara  Hashimoto  Female  Great Britain   25  16/08/2016  1582\n",
       "2  3     Philip       Gent    Male         France   36  21/05/2015  2587\n",
       "3  4   Kathleen     Hanner  Female  United States   25  15/10/2017  3549\n",
       "4  5    Nereida    Magwood  Female  United States   58  16/08/2016  2468\n",
       "5  6     Gaston      Brumm    Male  United States   24  21/05/2015  2554\n",
       "6  7       Etta       Hurn  Female  Great Britain   56  15/10/2017  3598"
      ]
     },
     "execution_count": 6,
     "metadata": {},
     "output_type": "execute_result"
    }
   ],
   "source": [
    "# Loading an Excel File\n",
    "import pandas as pd\n",
    "url = \"https://file-examples-com.github.io/uploads/2017/02/file_example_XLS_10.xls\"\n",
    "dataframe = pd.read_excel(url) # Url or local excel file address can be used to load the file\n",
    "dataframe.head(7)\n",
    "#sheetname in read_excel can be used to get a specific sheet in the file. sheetname=\"sale\" , sheetname = 2\n",
    "#if sheetname = [1,2,\"sales\"] will return a dictionary of pandas dataframes containing first,second sheets and sheet named sales."
   ]
  },
  {
   "cell_type": "code",
   "execution_count": 7,
   "id": "33adec37",
   "metadata": {},
   "outputs": [
    {
     "data": {
      "text/html": [
       "<div>\n",
       "<style scoped>\n",
       "    .dataframe tbody tr th:only-of-type {\n",
       "        vertical-align: middle;\n",
       "    }\n",
       "\n",
       "    .dataframe tbody tr th {\n",
       "        vertical-align: top;\n",
       "    }\n",
       "\n",
       "    .dataframe thead th {\n",
       "        text-align: right;\n",
       "    }\n",
       "</style>\n",
       "<table border=\"1\" class=\"dataframe\">\n",
       "  <thead>\n",
       "    <tr style=\"text-align: right;\">\n",
       "      <th></th>\n",
       "      <th>sport</th>\n",
       "      <th>maths</th>\n",
       "    </tr>\n",
       "  </thead>\n",
       "  <tbody>\n",
       "    <tr>\n",
       "      <th>quiz</th>\n",
       "      <td>{'q1': {'question': 'Which one is correct team...</td>\n",
       "      <td>{'q1': {'question': '5 + 7 = ?', 'options': ['...</td>\n",
       "    </tr>\n",
       "  </tbody>\n",
       "</table>\n",
       "</div>"
      ],
      "text/plain": [
       "                                                  sport  \\\n",
       "quiz  {'q1': {'question': 'Which one is correct team...   \n",
       "\n",
       "                                                  maths  \n",
       "quiz  {'q1': {'question': '5 + 7 = ?', 'options': ['...  "
      ]
     },
     "execution_count": 7,
     "metadata": {},
     "output_type": "execute_result"
    }
   ],
   "source": [
    "#Loading a JSON file\n",
    "\n",
    "url = \"https://support.oneskyapp.com/hc/en-us/article_attachments/202761727/example_2.json\"\n",
    "\n",
    "dataframe = pd.read_json(url,orient=\"index\")\n",
    "\n",
    "dataframe.head(3)\n",
    "#orient -- it indicates pandas how the JSON file is structured.It can take values = [split , records , index , columns , and values]\n",
    "#json_normalize is the function in pandas which can help convert semistructured JSON data into a pandas DataFrame"
   ]
  },
  {
   "cell_type": "code",
   "execution_count": 8,
   "id": "e9165d5b",
   "metadata": {},
   "outputs": [
    {
     "data": {
      "text/html": [
       "<div>\n",
       "<style scoped>\n",
       "    .dataframe tbody tr th:only-of-type {\n",
       "        vertical-align: middle;\n",
       "    }\n",
       "\n",
       "    .dataframe tbody tr th {\n",
       "        vertical-align: top;\n",
       "    }\n",
       "\n",
       "    .dataframe thead th {\n",
       "        text-align: right;\n",
       "    }\n",
       "</style>\n",
       "<table border=\"1\" class=\"dataframe\">\n",
       "  <thead>\n",
       "    <tr style=\"text-align: right;\">\n",
       "      <th></th>\n",
       "      <th>AlbumId</th>\n",
       "      <th>Title</th>\n",
       "      <th>ArtistId</th>\n",
       "    </tr>\n",
       "  </thead>\n",
       "  <tbody>\n",
       "    <tr>\n",
       "      <th>0</th>\n",
       "      <td>1</td>\n",
       "      <td>For Those About To Rock We Salute You</td>\n",
       "      <td>1</td>\n",
       "    </tr>\n",
       "    <tr>\n",
       "      <th>1</th>\n",
       "      <td>2</td>\n",
       "      <td>Balls to the Wall</td>\n",
       "      <td>2</td>\n",
       "    </tr>\n",
       "    <tr>\n",
       "      <th>2</th>\n",
       "      <td>3</td>\n",
       "      <td>Restless and Wild</td>\n",
       "      <td>2</td>\n",
       "    </tr>\n",
       "    <tr>\n",
       "      <th>3</th>\n",
       "      <td>4</td>\n",
       "      <td>Let There Be Rock</td>\n",
       "      <td>1</td>\n",
       "    </tr>\n",
       "    <tr>\n",
       "      <th>4</th>\n",
       "      <td>5</td>\n",
       "      <td>Big Ones</td>\n",
       "      <td>3</td>\n",
       "    </tr>\n",
       "  </tbody>\n",
       "</table>\n",
       "</div>"
      ],
      "text/plain": [
       "   AlbumId                                  Title  ArtistId\n",
       "0        1  For Those About To Rock We Salute You         1\n",
       "1        2                      Balls to the Wall         2\n",
       "2        3                      Restless and Wild         2\n",
       "3        4                      Let There Be Rock         1\n",
       "4        5                               Big Ones         3"
      ]
     },
     "execution_count": 8,
     "metadata": {},
     "output_type": "execute_result"
    }
   ],
   "source": [
    "#Querying a SQL database\n",
    "from sqlalchemy import create_engine\n",
    "\n",
    "#Creating a connection to the database\n",
    "database_connect = create_engine('sqlite:///chinook.db')\n",
    "\n",
    "#there is chinook.db in the local machine\n",
    "#Blog \"https://www.sqlitetutorial.net/sqlite-sample-database/\"\n",
    "#link for database : \"https://www.sqlitetutorial.net/wp-content/uploads/2018/03/chinook.zip\"\n",
    "\n",
    "#load Data\n",
    "dataframe = pd.read_sql_query('select * from albums',database_connect)\n",
    "\n",
    "dataframe.head(5)"
   ]
  }
 ],
 "metadata": {
  "kernelspec": {
   "display_name": "Python 3",
   "language": "python",
   "name": "python3"
  },
  "language_info": {
   "codemirror_mode": {
    "name": "ipython",
    "version": 3
   },
   "file_extension": ".py",
   "mimetype": "text/x-python",
   "name": "python",
   "nbconvert_exporter": "python",
   "pygments_lexer": "ipython3",
   "version": "3.8.10"
  }
 },
 "nbformat": 4,
 "nbformat_minor": 5
}
