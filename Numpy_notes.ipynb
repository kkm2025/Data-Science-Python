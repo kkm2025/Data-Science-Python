{
 "cells": [
  {
   "cell_type": "code",
   "execution_count": 1,
   "id": "10d4a115",
   "metadata": {},
   "outputs": [],
   "source": [
    "#Creating a vector\n",
    "import numpy as np\n",
    "\n",
    "vector = np.array([[1,1,1],[1,3,3]])"
   ]
  },
  {
   "cell_type": "code",
   "execution_count": 2,
   "id": "d872fd1a",
   "metadata": {},
   "outputs": [
    {
     "name": "stdout",
     "output_type": "stream",
     "text": [
      "[[1 1 1]\n",
      " [1 3 3]]\n",
      "[[ 1  2  3]\n",
      " [ 2 34  4]\n",
      " [ 3  2  3]]\n"
     ]
    }
   ],
   "source": [
    "#Creating matrix\n",
    "print(np.mat(vector))\n",
    "matrix = np.mat([[1,2,3],[2,34,4],[3,2,3]])\n",
    "print(matrix)"
   ]
  },
  {
   "cell_type": "code",
   "execution_count": 3,
   "id": "ae60d488",
   "metadata": {},
   "outputs": [],
   "source": [
    "#Creating Sparse Matrix\n",
    "#Sparse : Small in qty. i.e reducing the size of matrix if the matrix contains few zeroes\n",
    "from scipy import sparse\n",
    "a = np.array([[0,1],[2,0],[2,3]])\n",
    "a_sparse = sparse.csr_matrix(a)\n",
    "#csr - compressed sparse row \n",
    "#This is useful when we have have large matrix with lots of cells having \n",
    "#CSR gives the indices of the non-zero values and index starts from zero"
   ]
  },
  {
   "cell_type": "code",
   "execution_count": 4,
   "id": "badc0fdb",
   "metadata": {},
   "outputs": [
    {
     "name": "stdout",
     "output_type": "stream",
     "text": [
      "[[0 1]\n",
      " [2 0]\n",
      " [2 3]]\n",
      "  (0, 1)\t1\n",
      "  (1, 0)\t2\n",
      "  (2, 0)\t2\n",
      "  (2, 1)\t3\n"
     ]
    }
   ],
   "source": [
    "print(a)\n",
    "print(a_sparse)"
   ]
  },
  {
   "cell_type": "code",
   "execution_count": 5,
   "id": "1aa6bf62",
   "metadata": {},
   "outputs": [
    {
     "name": "stdout",
     "output_type": "stream",
     "text": [
      "1\n",
      "3\n",
      "5\n"
     ]
    },
    {
     "data": {
      "text/plain": [
       "matrix([[1, 3]])"
      ]
     },
     "execution_count": 5,
     "metadata": {},
     "output_type": "execute_result"
    }
   ],
   "source": [
    "#Selecting a element or elements from  vectors and matrix\n",
    "\n",
    "vector = np.array([1,3,3,5])\n",
    "matrix = np.mat([[1,3,2],[2,3,5],[5,6,4]])\n",
    "\n",
    "#Selecting an element\n",
    "print(vector[0])\n",
    "print(matrix[0,1])\n",
    "#Index starts from zero for numpy\n",
    "\n",
    "#Selecting all elements of a vector\n",
    "vector[:] # or just vector\n",
    "\n",
    "matrix[:,:] # or just matrix\n",
    "\n",
    "print(vector[-1]) #Selecting last element\n",
    "\n",
    "matrix[:2] #Gives rows\n",
    "matrix[:1,:2]#Gives upto first row and upto 2nd column"
   ]
  },
  {
   "cell_type": "code",
   "execution_count": 6,
   "id": "e13a4f7c",
   "metadata": {},
   "outputs": [
    {
     "data": {
      "text/plain": [
       "2"
      ]
     },
     "execution_count": 6,
     "metadata": {},
     "output_type": "execute_result"
    }
   ],
   "source": [
    "#Describing a Matrix\\\n",
    "\n",
    "matrix.shape # Shape of matrix\n",
    "\n",
    "matrix.size # rows*columns\n",
    "\n",
    "np.mat([[1,2],[1,3],[2,4],[5,3]]).ndim # number of dimensions\n",
    "#matrix is always 2-dimension"
   ]
  },
  {
   "cell_type": "code",
   "execution_count": 7,
   "id": "e7e0086b",
   "metadata": {},
   "outputs": [
    {
     "data": {
      "text/plain": [
       "array([[200, 300, 400],\n",
       "       [200, 300, 200]])"
      ]
     },
     "execution_count": 7,
     "metadata": {},
     "output_type": "execute_result"
    }
   ],
   "source": [
    "# Applying operations to elements\n",
    "a = np.array([[2,3,4],[2,3,2]])\n",
    "into = lambda i : i*10\n",
    "into(a) #also possible to matrix\n",
    "a*100 #This also possible"
   ]
  },
  {
   "cell_type": "code",
   "execution_count": 8,
   "id": "6a9eff71",
   "metadata": {},
   "outputs": [
    {
     "name": "stdout",
     "output_type": "stream",
     "text": [
      "4\n",
      "2\n",
      "[2 3 4]\n",
      "[4 3]\n"
     ]
    }
   ],
   "source": [
    "#Maximum and Minimum\n",
    "print(np.max(a)) # Maximum of whole matrix\n",
    "\n",
    "print(np.min(a)) # Minimum of whole matrix\n",
    "\n",
    "print(np.max(a,axis=0))# Max in each column\n",
    "\n",
    "print(np.max(a,axis=1))#Max in each row"
   ]
  },
  {
   "cell_type": "code",
   "execution_count": 9,
   "id": "95f9ed49",
   "metadata": {},
   "outputs": [
    {
     "name": "stdout",
     "output_type": "stream",
     "text": [
      "2.6666666666666665\n",
      "0.5555555555555555\n",
      "0.7453559924999298\n"
     ]
    }
   ],
   "source": [
    "# Average, Variance and Std deviation\n",
    "print(np.mean(a)) #Average\n",
    "\n",
    "print(np.var(a)) #Variance\n",
    "\n",
    "print(np.std(a)) #Std Deviation \n",
    "#Here also axis can be used to descriptive statistics for respective rows and columns"
   ]
  },
  {
   "cell_type": "code",
   "execution_count": 10,
   "id": "8e65ca0d",
   "metadata": {},
   "outputs": [
    {
     "name": "stdout",
     "output_type": "stream",
     "text": [
      "(2, 3)\n",
      "[[2 3]\n",
      " [4 2]\n",
      " [3 2]]\n",
      "[[2 3 4 2 3 2]]\n",
      "[[2]\n",
      " [3]\n",
      " [4]\n",
      " [2]\n",
      " [3]\n",
      " [2]]\n",
      "[[2 3 4 2 3 2]]\n",
      "[2 3 4 2 3 2]\n"
     ]
    }
   ],
   "source": [
    "# Reshaping Arrays\n",
    "#Changing the shape of the array without changing the element values\n",
    "print(a.shape)\n",
    "\n",
    "print(a.reshape(3,2))\n",
    "print(a.reshape(1,6))\n",
    "\n",
    "print(a.reshape(-1,1)) #Gives only one col and as many rows as possible \n",
    "print(a.reshape(1,-1)) #Gives only one row and as many cols as possible\n",
    "\n",
    "print(a.reshape(6)) #Gives 1D array"
   ]
  },
  {
   "cell_type": "code",
   "execution_count": 11,
   "id": "80655c6c",
   "metadata": {},
   "outputs": [
    {
     "name": "stdout",
     "output_type": "stream",
     "text": [
      "[[2 3 4]\n",
      " [2 3 2]]\n",
      "[[2 2]\n",
      " [3 3]\n",
      " [4 2]]\n",
      "[1 1 2]\n"
     ]
    }
   ],
   "source": [
    "#Transposing a Vector or a Matrix\n",
    "print(a)\n",
    "print(a.T) #Transpose of matrix a\n",
    "\n",
    "print(np.array([1,1,2]).T)\n",
    "#transpose of a vector is itself"
   ]
  },
  {
   "cell_type": "code",
   "execution_count": 12,
   "id": "3dd2270e",
   "metadata": {},
   "outputs": [
    {
     "name": "stdout",
     "output_type": "stream",
     "text": [
      "[[2 3 4]\n",
      " [2 3 2]]\n",
      "[2 3 4 2 3 2]\n",
      "[[2 3 4 2 3 2]]\n"
     ]
    }
   ],
   "source": [
    "# Flattening a matrix or converting matrix into 1D array\n",
    "\n",
    "print(a)\n",
    "print(a.flatten()) #Reshape can be used\n",
    "print(a.reshape(1,-1))"
   ]
  },
  {
   "cell_type": "code",
   "execution_count": 13,
   "id": "339007dd",
   "metadata": {},
   "outputs": [
    {
     "name": "stdout",
     "output_type": "stream",
     "text": [
      "[[2 3 4]\n",
      " [2 3 2]]\n"
     ]
    },
    {
     "data": {
      "text/plain": [
       "2"
      ]
     },
     "execution_count": 13,
     "metadata": {},
     "output_type": "execute_result"
    }
   ],
   "source": [
    "# Rank of a Matrix\n",
    "print(a)\n",
    "\n",
    "np.linalg.matrix_rank(a) # Rank of a matrix is the dimension of vector space spanned by its columns or rows"
   ]
  },
  {
   "cell_type": "code",
   "execution_count": 14,
   "id": "21b4a244",
   "metadata": {},
   "outputs": [
    {
     "name": "stdout",
     "output_type": "stream",
     "text": [
      "[[1 2]\n",
      " [3 5]]\n"
     ]
    },
    {
     "data": {
      "text/plain": [
       "-1.0000000000000004"
      ]
     },
     "execution_count": 14,
     "metadata": {},
     "output_type": "execute_result"
    }
   ],
   "source": [
    "# Determinant of Matrix\n",
    "b = np.array([[1,2],[3,5]])\n",
    "print(b)\n",
    "np.linalg.det(b)"
   ]
  },
  {
   "cell_type": "code",
   "execution_count": 15,
   "id": "f465668e",
   "metadata": {},
   "outputs": [
    {
     "name": "stdout",
     "output_type": "stream",
     "text": [
      "[[1 2 3 5]\n",
      " [5 6 3 6]\n",
      " [2 9 0 7]\n",
      " [2 3 2 1]]\n",
      "[1 6 0 1]\n",
      "[2 3 7]\n",
      "[2 3]\n"
     ]
    }
   ],
   "source": [
    "#Diagonal of a Matrix\n",
    "c = np.array([[1,2,3,5],[5,6,3,6],[2,9,0,7],[2,3,2,1]])\n",
    "print(c)\n",
    "print(c.diagonal())\n",
    "\n",
    "#To get diagonal off from main  diagonal\n",
    "print(c.diagonal(offset=1))\n",
    "print(c.diagonal(offset=-2))"
   ]
  },
  {
   "cell_type": "code",
   "execution_count": 16,
   "id": "a44c6008",
   "metadata": {},
   "outputs": [
    {
     "name": "stdout",
     "output_type": "stream",
     "text": [
      "[[1 2]\n",
      " [3 5]]\n"
     ]
    },
    {
     "data": {
      "text/plain": [
       "6"
      ]
     },
     "execution_count": 16,
     "metadata": {},
     "output_type": "execute_result"
    }
   ],
   "source": [
    "#Trace of the Matrix\n",
    "#Trace is the sum of the diagonal elements\n",
    "print(b)\n",
    "sum(b.diagonal())"
   ]
  },
  {
   "cell_type": "code",
   "execution_count": 17,
   "id": "08d9acbb",
   "metadata": {},
   "outputs": [
    {
     "name": "stdout",
     "output_type": "stream",
     "text": [
      "[[1 2 3 5]\n",
      " [5 6 3 6]\n",
      " [2 9 0 7]\n",
      " [2 3 2 1]]\n",
      "Eigenvalues :  [14.17660527+0.j         -1.63256218+1.84165369j -1.63256218-1.84165369j\n",
      " -2.91148091+0.j        ]\n",
      "Eigenvecors : [[ 0.34836547+0.j         -0.52682779-0.31799417j -0.52682779+0.31799417j\n",
      "   0.16773208+0.j        ]\n",
      " [ 0.65104012+0.j          0.0113721 +0.33838646j  0.0113721 -0.33838646j\n",
      "  -0.08907863+0.j        ]\n",
      " [ 0.60727014+0.j          0.69267901+0.j          0.69267901-0.j\n",
      "  -0.88111732+0.j        ]\n",
      " [ 0.29327672+0.j         -0.02564784-0.16197357j -0.02564784+0.16197357j\n",
      "   0.43308568+0.j        ]]\n"
     ]
    }
   ],
   "source": [
    "# Eigenvalues and Eigenvectors\n",
    "# eigenvectors are vectors that, when that transformation is applied, change only in scale (not direction)\n",
    "# A*v = X*v\n",
    "#Where A is sqr matrix and X contains eigenvalues and v contains eigenvectors\n",
    "\n",
    "print(c)\n",
    "eigen_vals, eigen_vectors = np.linalg.eig(c)\n",
    "print(\"Eigenvalues : \",eigen_vals)\n",
    "print(\"Eigenvecors :\", eigen_vectors )"
   ]
  },
  {
   "cell_type": "code",
   "execution_count": 18,
   "id": "99fe5fa6",
   "metadata": {},
   "outputs": [
    {
     "name": "stdout",
     "output_type": "stream",
     "text": [
      "[[1 2]\n",
      " [3 5]]\n",
      "[[-1  0]\n",
      " [ 1  3]]\n",
      "[[-1 -2]\n",
      " [10 17]]\n",
      "[[-1 -2]\n",
      " [10 17]]\n"
     ]
    }
   ],
   "source": [
    "# Dot Product\n",
    "print(b)\n",
    "e = b-2\n",
    "print(e)\n",
    "\n",
    "print(np.dot(e,b))\n",
    "print(e@b) "
   ]
  },
  {
   "cell_type": "code",
   "execution_count": 19,
   "id": "5956f352",
   "metadata": {},
   "outputs": [
    {
     "name": "stdout",
     "output_type": "stream",
     "text": [
      "[[0 2]\n",
      " [4 8]]\n",
      "[[0 2]\n",
      " [4 8]]\n",
      "[[-2 -2]\n",
      " [-2 -2]]\n",
      "[[-2 -2]\n",
      " [-2 -2]]\n"
     ]
    }
   ],
   "source": [
    "#Addition and Subtraction\n",
    "\n",
    "print(e+b)\n",
    "print(np.add(e,b))\n",
    "\n",
    "print(e-b)\n",
    "print(np.subtract(e,b))"
   ]
  },
  {
   "cell_type": "code",
   "execution_count": 20,
   "id": "7ac3736f",
   "metadata": {},
   "outputs": [
    {
     "name": "stdout",
     "output_type": "stream",
     "text": [
      "[[-1  0]\n",
      " [ 1  3]]\n",
      "[[1 2]\n",
      " [3 5]]\n",
      "[[-1 -2]\n",
      " [10 17]]\n",
      "[[-1  0]\n",
      " [ 3 15]]\n"
     ]
    }
   ],
   "source": [
    "#Multiplication \n",
    "\n",
    "print(e)\n",
    "print(b)\n",
    "print(e@b)\n",
    "\n",
    "print(e*b) #Elementwise multiplication"
   ]
  },
  {
   "cell_type": "code",
   "execution_count": 21,
   "id": "91f986b2",
   "metadata": {},
   "outputs": [
    {
     "name": "stdout",
     "output_type": "stream",
     "text": [
      "[[-1  0]\n",
      " [ 1  3]]\n",
      "[[-1.         -0.        ]\n",
      " [ 0.33333333  0.33333333]]\n",
      "[[1 0]\n",
      " [1 0]]\n"
     ]
    },
    {
     "ename": "LinAlgError",
     "evalue": "Singular matrix",
     "output_type": "error",
     "traceback": [
      "\u001b[0;31m---------------------------------------------------------------------------\u001b[0m",
      "\u001b[0;31mLinAlgError\u001b[0m                               Traceback (most recent call last)",
      "\u001b[0;32m<ipython-input-21-f59bf506e3a6>\u001b[0m in \u001b[0;36m<module>\u001b[0;34m\u001b[0m\n\u001b[1;32m      5\u001b[0m \u001b[0ma\u001b[0m \u001b[0;34m=\u001b[0m \u001b[0mnp\u001b[0m\u001b[0;34m.\u001b[0m\u001b[0marray\u001b[0m\u001b[0;34m(\u001b[0m\u001b[0;34m[\u001b[0m\u001b[0;34m[\u001b[0m\u001b[0;36m1\u001b[0m\u001b[0;34m,\u001b[0m\u001b[0;36m0\u001b[0m\u001b[0;34m]\u001b[0m\u001b[0;34m,\u001b[0m\u001b[0;34m[\u001b[0m\u001b[0;36m1\u001b[0m\u001b[0;34m,\u001b[0m\u001b[0;36m0\u001b[0m\u001b[0;34m]\u001b[0m\u001b[0;34m]\u001b[0m\u001b[0;34m)\u001b[0m\u001b[0;34m\u001b[0m\u001b[0;34m\u001b[0m\u001b[0m\n\u001b[1;32m      6\u001b[0m \u001b[0mprint\u001b[0m\u001b[0;34m(\u001b[0m\u001b[0ma\u001b[0m\u001b[0;34m)\u001b[0m\u001b[0;34m\u001b[0m\u001b[0;34m\u001b[0m\u001b[0m\n\u001b[0;32m----> 7\u001b[0;31m \u001b[0mprint\u001b[0m\u001b[0;34m(\u001b[0m\u001b[0mnp\u001b[0m\u001b[0;34m.\u001b[0m\u001b[0mlinalg\u001b[0m\u001b[0;34m.\u001b[0m\u001b[0minv\u001b[0m\u001b[0;34m(\u001b[0m\u001b[0ma\u001b[0m\u001b[0;34m)\u001b[0m\u001b[0;34m)\u001b[0m\u001b[0;34m\u001b[0m\u001b[0;34m\u001b[0m\u001b[0m\n\u001b[0m",
      "\u001b[0;32m<__array_function__ internals>\u001b[0m in \u001b[0;36minv\u001b[0;34m(*args, **kwargs)\u001b[0m\n",
      "\u001b[0;32m/usr/local/lib/python3.8/dist-packages/numpy/linalg/linalg.py\u001b[0m in \u001b[0;36minv\u001b[0;34m(a)\u001b[0m\n\u001b[1;32m    543\u001b[0m     \u001b[0msignature\u001b[0m \u001b[0;34m=\u001b[0m \u001b[0;34m'D->D'\u001b[0m \u001b[0;32mif\u001b[0m \u001b[0misComplexType\u001b[0m\u001b[0;34m(\u001b[0m\u001b[0mt\u001b[0m\u001b[0;34m)\u001b[0m \u001b[0;32melse\u001b[0m \u001b[0;34m'd->d'\u001b[0m\u001b[0;34m\u001b[0m\u001b[0;34m\u001b[0m\u001b[0m\n\u001b[1;32m    544\u001b[0m     \u001b[0mextobj\u001b[0m \u001b[0;34m=\u001b[0m \u001b[0mget_linalg_error_extobj\u001b[0m\u001b[0;34m(\u001b[0m\u001b[0m_raise_linalgerror_singular\u001b[0m\u001b[0;34m)\u001b[0m\u001b[0;34m\u001b[0m\u001b[0;34m\u001b[0m\u001b[0m\n\u001b[0;32m--> 545\u001b[0;31m     \u001b[0mainv\u001b[0m \u001b[0;34m=\u001b[0m \u001b[0m_umath_linalg\u001b[0m\u001b[0;34m.\u001b[0m\u001b[0minv\u001b[0m\u001b[0;34m(\u001b[0m\u001b[0ma\u001b[0m\u001b[0;34m,\u001b[0m \u001b[0msignature\u001b[0m\u001b[0;34m=\u001b[0m\u001b[0msignature\u001b[0m\u001b[0;34m,\u001b[0m \u001b[0mextobj\u001b[0m\u001b[0;34m=\u001b[0m\u001b[0mextobj\u001b[0m\u001b[0;34m)\u001b[0m\u001b[0;34m\u001b[0m\u001b[0;34m\u001b[0m\u001b[0m\n\u001b[0m\u001b[1;32m    546\u001b[0m     \u001b[0;32mreturn\u001b[0m \u001b[0mwrap\u001b[0m\u001b[0;34m(\u001b[0m\u001b[0mainv\u001b[0m\u001b[0;34m.\u001b[0m\u001b[0mastype\u001b[0m\u001b[0;34m(\u001b[0m\u001b[0mresult_t\u001b[0m\u001b[0;34m,\u001b[0m \u001b[0mcopy\u001b[0m\u001b[0;34m=\u001b[0m\u001b[0;32mFalse\u001b[0m\u001b[0;34m)\u001b[0m\u001b[0;34m)\u001b[0m\u001b[0;34m\u001b[0m\u001b[0;34m\u001b[0m\u001b[0m\n\u001b[1;32m    547\u001b[0m \u001b[0;34m\u001b[0m\u001b[0m\n",
      "\u001b[0;32m/usr/local/lib/python3.8/dist-packages/numpy/linalg/linalg.py\u001b[0m in \u001b[0;36m_raise_linalgerror_singular\u001b[0;34m(err, flag)\u001b[0m\n\u001b[1;32m     86\u001b[0m \u001b[0;34m\u001b[0m\u001b[0m\n\u001b[1;32m     87\u001b[0m \u001b[0;32mdef\u001b[0m \u001b[0m_raise_linalgerror_singular\u001b[0m\u001b[0;34m(\u001b[0m\u001b[0merr\u001b[0m\u001b[0;34m,\u001b[0m \u001b[0mflag\u001b[0m\u001b[0;34m)\u001b[0m\u001b[0;34m:\u001b[0m\u001b[0;34m\u001b[0m\u001b[0;34m\u001b[0m\u001b[0m\n\u001b[0;32m---> 88\u001b[0;31m     \u001b[0;32mraise\u001b[0m \u001b[0mLinAlgError\u001b[0m\u001b[0;34m(\u001b[0m\u001b[0;34m\"Singular matrix\"\u001b[0m\u001b[0;34m)\u001b[0m\u001b[0;34m\u001b[0m\u001b[0;34m\u001b[0m\u001b[0m\n\u001b[0m\u001b[1;32m     89\u001b[0m \u001b[0;34m\u001b[0m\u001b[0m\n\u001b[1;32m     90\u001b[0m \u001b[0;32mdef\u001b[0m \u001b[0m_raise_linalgerror_nonposdef\u001b[0m\u001b[0;34m(\u001b[0m\u001b[0merr\u001b[0m\u001b[0;34m,\u001b[0m \u001b[0mflag\u001b[0m\u001b[0;34m)\u001b[0m\u001b[0;34m:\u001b[0m\u001b[0;34m\u001b[0m\u001b[0;34m\u001b[0m\u001b[0m\n",
      "\u001b[0;31mLinAlgError\u001b[0m: Singular matrix"
     ]
    }
   ],
   "source": [
    "#Inverting a Matrix\n",
    "print(e)\n",
    "print(np.linalg.inv(e))\n",
    "\n",
    "a = np.array([[1,0],[1,0]])\n",
    "print(a)\n",
    "print(np.linalg.inv(a))\n"
   ]
  },
  {
   "cell_type": "code",
   "execution_count": 22,
   "id": "0b54bba4",
   "metadata": {},
   "outputs": [
    {
     "data": {
      "text/plain": [
       "array([11,  5, 15])"
      ]
     },
     "execution_count": 22,
     "metadata": {},
     "output_type": "execute_result"
    }
   ],
   "source": [
    "# Generating Random values\n",
    "#set.seed()\n",
    "np.random.seed(1)\n",
    "\n",
    "np.random.random(3) # Random floats between 0 and 1\n",
    "\n",
    "#Random integers from 0 to 20\n",
    "np.random.randint(0,21,3) # (min,max+1,n)"
   ]
  },
  {
   "cell_type": "code",
   "execution_count": 23,
   "id": "faa082d3",
   "metadata": {},
   "outputs": [
    {
     "data": {
      "text/plain": [
       "array([-1.09949235, -2.80574543,  3.1655046 , -2.09029366,  0.51518703])"
      ]
     },
     "execution_count": 23,
     "metadata": {},
     "output_type": "execute_result"
    }
   ],
   "source": [
    "#Random normal values\n",
    "np.random.normal(0,2,5) #(mean,sd,n)"
   ]
  },
  {
   "cell_type": "code",
   "execution_count": 24,
   "id": "c7877300",
   "metadata": {},
   "outputs": [
    {
     "data": {
      "text/plain": [
       "array([-0.56547106, -2.70422786,  0.34413909,  4.13962025, -0.42795192,\n",
       "       -0.69301433,  4.39127789,  2.78389236])"
      ]
     },
     "execution_count": 24,
     "metadata": {},
     "output_type": "execute_result"
    }
   ],
   "source": [
    "#Random uniform values\n",
    "np.random.uniform(-5,5,8) #(min,max,n)"
   ]
  },
  {
   "cell_type": "code",
   "execution_count": 25,
   "id": "d7af65f7",
   "metadata": {},
   "outputs": [
    {
     "data": {
      "text/plain": [
       "array([ 2.77368281,  4.21085629, -6.83972006,  0.21792637,  5.5728845 ])"
      ]
     },
     "execution_count": 25,
     "metadata": {},
     "output_type": "execute_result"
    }
   ],
   "source": [
    "#Random logistic values\n",
    "np.random.logistic(0,3,5) #(mean,sd,n)"
   ]
  },
  {
   "cell_type": "code",
   "execution_count": 26,
   "id": "69a722ce",
   "metadata": {},
   "outputs": [
    {
     "data": {
      "text/plain": [
       "array([8.834756  , 8.8481319 , 1.59448772, 0.30535311, 5.55132014,\n",
       "       4.49551543])"
      ]
     },
     "execution_count": 26,
     "metadata": {},
     "output_type": "execute_result"
    }
   ],
   "source": [
    "#Random Exponential values\n",
    "np.random.exponential(5,6) # (lambda,5)"
   ]
  },
  {
   "cell_type": "code",
   "execution_count": 27,
   "id": "4c4abc7b",
   "metadata": {},
   "outputs": [
    {
     "data": {
      "text/plain": [
       "array([6, 5, 4, 4, 3])"
      ]
     },
     "execution_count": 27,
     "metadata": {},
     "output_type": "execute_result"
    }
   ],
   "source": [
    "#Random Binomial values\n",
    "np.random.binomial(10,0.5,5) #(n,p,no of obs)"
   ]
  },
  {
   "cell_type": "code",
   "execution_count": 28,
   "id": "62808cd4",
   "metadata": {},
   "outputs": [
    {
     "data": {
      "text/plain": [
       "array([13, 12,  9,  4,  5,  5, 15, 11])"
      ]
     },
     "execution_count": 28,
     "metadata": {},
     "output_type": "execute_result"
    }
   ],
   "source": [
    "#Random Poisson values\n",
    "np.random.poisson(10,8) #(mean,n)"
   ]
  }
 ],
 "metadata": {
  "kernelspec": {
   "display_name": "Python 3",
   "language": "python",
   "name": "python3"
  },
  "language_info": {
   "codemirror_mode": {
    "name": "ipython",
    "version": 3
   },
   "file_extension": ".py",
   "mimetype": "text/x-python",
   "name": "python",
   "nbconvert_exporter": "python",
   "pygments_lexer": "ipython3",
   "version": "3.8.10"
  }
 },
 "nbformat": 4,
 "nbformat_minor": 5
}
